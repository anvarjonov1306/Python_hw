{
 "cells": [
  {
   "cell_type": "code",
   "execution_count": 1,
   "id": "533dd6d2",
   "metadata": {},
   "outputs": [],
   "source": [
    "#1. is_prime(n) funksiyasi\n",
    "# is_prime(n) funksiyasini hosil qiling (n > 0). Agar n soni tub bo'lsa True, aks holda False qiymat qaytarsin.\n",
    "def is_prime(n):\n",
    "    if n < 2:\n",
    "        return False\n",
    "    for i in range(2, int(n**0.5) + 1):\n",
    "        if n % i == 0:\n",
    "            return False\n",
    "    return True\n",
    "\n"
   ]
  },
  {
   "cell_type": "code",
   "execution_count": 2,
   "id": "405570d3",
   "metadata": {},
   "outputs": [
    {
     "name": "stdout",
     "output_type": "stream",
     "text": [
      "False\n",
      "True\n",
      "False\n",
      "True\n"
     ]
    }
   ],
   "source": [
    "print(is_prime(4))  \n",
    "print(is_prime(7))  \n",
    "print(is_prime(1))  \n",
    "print(is_prime(13))\n"
   ]
  },
  {
   "cell_type": "code",
   "execution_count": 3,
   "id": "a96b1b3c",
   "metadata": {},
   "outputs": [],
   "source": [
    "#2.digit_sum(k) funksiyasi\n",
    "#digit_sum(k) funksiyasini yozing, u k sonining raqamlari yig'indisini hisoblaydi.\n",
    "\n",
    "def digit_sum(k):\n",
    "    return sum(int(digit) for digit in str(k))\n"
   ]
  },
  {
   "cell_type": "code",
   "execution_count": 4,
   "id": "b966dd96",
   "metadata": {},
   "outputs": [
    {
     "name": "stdout",
     "output_type": "stream",
     "text": [
      "6\n",
      "7\n",
      "10\n"
     ]
    }
   ],
   "source": [
    "print(digit_sum(24))   \n",
    "print(digit_sum(502))  \n",
    "print(digit_sum(1234)) \n"
   ]
  },
  {
   "cell_type": "code",
   "execution_count": 5,
   "id": "8a7b9615",
   "metadata": {},
   "outputs": [],
   "source": [
    "#3.Ikki sonning darajalari\n",
    "#Berilgan N sonidan oshmaydigan barcha 2 ning darajalarini (ya'ni, 2**k shaklidagi sonlarni) chop etuvchi funksiyani yozing.\n",
    "\n",
    "def print_powers_of_two(N):\n",
    "    power = 1\n",
    "    while power * 2 <= N:\n",
    "        power *= 2\n",
    "        print(power, end=' ')\n"
   ]
  },
  {
   "cell_type": "code",
   "execution_count": 6,
   "id": "ddd78b1f",
   "metadata": {},
   "outputs": [
    {
     "name": "stdout",
     "output_type": "stream",
     "text": [
      "2 4 8 "
     ]
    }
   ],
   "source": [
    "print_powers_of_two(10)\n"
   ]
  },
  {
   "cell_type": "code",
   "execution_count": null,
   "id": "18e4519e",
   "metadata": {},
   "outputs": [],
   "source": []
  },
  {
   "cell_type": "code",
   "execution_count": null,
   "id": "fcfe09fe",
   "metadata": {},
   "outputs": [],
   "source": []
  },
  {
   "cell_type": "code",
   "execution_count": null,
   "id": "366cef36",
   "metadata": {},
   "outputs": [],
   "source": []
  },
  {
   "cell_type": "code",
   "execution_count": null,
   "id": "ff084331",
   "metadata": {},
   "outputs": [],
   "source": []
  },
  {
   "cell_type": "code",
   "execution_count": null,
   "id": "cbbcb161",
   "metadata": {},
   "outputs": [],
   "source": []
  }
 ],
 "metadata": {
  "kernelspec": {
   "display_name": "Python 3",
   "language": "python",
   "name": "python3"
  },
  "language_info": {
   "codemirror_mode": {
    "name": "ipython",
    "version": 3
   },
   "file_extension": ".py",
   "mimetype": "text/x-python",
   "name": "python",
   "nbconvert_exporter": "python",
   "pygments_lexer": "ipython3",
   "version": "3.12.9"
  }
 },
 "nbformat": 4,
 "nbformat_minor": 5
}
