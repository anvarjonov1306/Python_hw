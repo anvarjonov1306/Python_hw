{
 "cells": [
  {
   "cell_type": "code",
   "execution_count": 1,
   "id": "b59e44c2",
   "metadata": {},
   "outputs": [
    {
     "name": "stdout",
     "output_type": "stream",
     "text": [
      "  first_name  age           City\n",
      "0      Alice   25       New York\n",
      "1        Bob   30  San Francisco\n",
      "2    Charlie   35    Los Angeles\n",
      "3      David   40        Chicago\n"
     ]
    }
   ],
   "source": [
    "#1:import pandas as pd\n",
    "#data = {'First Name': ['Alice', 'Bob', 'Charlie', 'David'], \n",
    "#'Age': [25, 30, 35, 40], \n",
    "#'City': ['New York', 'San Francisco', 'Los Angeles', 'Chicago']} df = pd.DataFrame(data)\n",
    "\n",
    "#Rename column names using function. \"First Name\" --> \"first_name\", \"Age\" --> \"age\n",
    "\n",
    "import pandas as pd\n",
    "\n",
    "data = {\n",
    "    'First Name': ['Alice', 'Bob', 'Charlie', 'David'],\n",
    "    'Age': [25, 30, 35, 40],\n",
    "    'City': ['New York', 'San Francisco', 'Los Angeles', 'Chicago']\n",
    "}\n",
    "df = pd.DataFrame(data)\n",
    "\n",
    "def rename_column(col):\n",
    "    if col == \"First Name\":\n",
    "        return \"first_name\"\n",
    "    elif col == \"Age\":\n",
    "        return \"age\"\n",
    "    else:\n",
    "        return col  \n",
    "df.columns = [rename_column(col) for col in df.columns]\n",
    "\n",
    "print(df)\n"
   ]
  },
  {
   "cell_type": "code",
   "execution_count": 2,
   "id": "3dddeb7c",
   "metadata": {},
   "outputs": [
    {
     "name": "stdout",
     "output_type": "stream",
     "text": [
      "  first_name  age           City\n",
      "0      Alice   25       New York\n",
      "1        Bob   30  San Francisco\n",
      "2    Charlie   35    Los Angeles\n"
     ]
    }
   ],
   "source": [
    "#1.2.Print the first 3 rows of the DataFrame\n",
    "print(df.head(3))\n",
    "\n"
   ]
  },
  {
   "cell_type": "code",
   "execution_count": 3,
   "id": "d068403d",
   "metadata": {},
   "outputs": [
    {
     "name": "stdout",
     "output_type": "stream",
     "text": [
      "32.5\n"
     ]
    }
   ],
   "source": [
    "#1.3.Find the mean age of the individuals\n",
    "mean_age = df['age'].mean()\n",
    "print(mean_age)\n"
   ]
  },
  {
   "cell_type": "code",
   "execution_count": 4,
   "id": "37ed26a1",
   "metadata": {},
   "outputs": [
    {
     "name": "stdout",
     "output_type": "stream",
     "text": [
      "  first_name           City\n",
      "0      Alice       New York\n",
      "1        Bob  San Francisco\n",
      "2    Charlie    Los Angeles\n",
      "3      David        Chicago\n"
     ]
    }
   ],
   "source": [
    "#1.4.Select and print only the 'Name' and 'City' columns\n",
    "print(df[['first_name', 'City']])\n"
   ]
  },
  {
   "cell_type": "code",
   "execution_count": 5,
   "id": "40822808",
   "metadata": {},
   "outputs": [
    {
     "name": "stdout",
     "output_type": "stream",
     "text": [
      "  first_name  age           City  Salary\n",
      "0      Alice   25       New York   74203\n",
      "1        Bob   30  San Francisco   93572\n",
      "2    Charlie   35    Los Angeles   60690\n",
      "3      David   40        Chicago   65436\n"
     ]
    }
   ],
   "source": [
    "#1.5.Add a new column 'Salary' with random salary values\n",
    "import random\n",
    "\n",
    "df['Salary'] = [random.randint(50000, 100000) for _ in range(len(df))]\n",
    "\n",
    "print(df)\n"
   ]
  },
  {
   "cell_type": "code",
   "execution_count": 6,
   "id": "ce276c2e",
   "metadata": {},
   "outputs": [
    {
     "name": "stdout",
     "output_type": "stream",
     "text": [
      "       first_name        age      City        Salary\n",
      "count           4   4.000000         4      4.000000\n",
      "unique          4        NaN         4           NaN\n",
      "top         Alice        NaN  New York           NaN\n",
      "freq            1        NaN         1           NaN\n",
      "mean          NaN  32.500000       NaN  73475.250000\n",
      "std           NaN   6.454972       NaN  14520.114081\n",
      "min           NaN  25.000000       NaN  60690.000000\n",
      "25%           NaN  28.750000       NaN  64249.500000\n",
      "50%           NaN  32.500000       NaN  69819.500000\n",
      "75%           NaN  36.250000       NaN  79045.250000\n",
      "max           NaN  40.000000       NaN  93572.000000\n"
     ]
    }
   ],
   "source": [
    "#1.6.Display summary statistics of the DataFrame\n",
    "print(df.describe(include='all'))\n"
   ]
  },
  {
   "cell_type": "code",
   "execution_count": 8,
   "id": "7fb6221c",
   "metadata": {},
   "outputs": [
    {
     "name": "stdout",
     "output_type": "stream",
     "text": [
      "  Month  Sales  Expenses\n",
      "0   Jan   5000      3000\n",
      "1   Feb   6000      3500\n",
      "2   Mar   7500      4000\n",
      "3   Apr   8000      4500\n"
     ]
    }
   ],
   "source": [
    "#2.1.Create a DataFrame named sales_and_expenses with columns 'Month', 'Sales', and 'Expenses', representing monthly sales and expenses data. Use below table.\n",
    "\n",
    "import pandas as pd\n",
    "\n",
    "data = {\n",
    "    'Month': ['Jan', 'Feb', 'Mar', 'Apr'],\n",
    "    'Sales': [5000, 6000, 7500, 8000],\n",
    "    'Expenses': [3000, 3500, 4000, 4500]\n",
    "}\n",
    "\n",
    "sales_and_expenses = pd.DataFrame(data)\n",
    "\n",
    "print(sales_and_expenses)\n"
   ]
  },
  {
   "cell_type": "code",
   "execution_count": null,
   "id": "ff808863",
   "metadata": {},
   "outputs": [
    {
     "name": "stdout",
     "output_type": "stream",
     "text": [
      "Maximum Sales: 8000\n",
      "Maximum Expenses: 4500\n"
     ]
    }
   ],
   "source": [
    "#2.2.Calculate and display the maximum sales and expenses.\n",
    "max_sales = sales_and_expenses['Sales'].max()\n",
    "max_expenses = sales_and_expenses['Expenses'].max()\n",
    "\n",
    "print(\"Maximum Sales:\", max_sales)\n",
    "print(\"Maximum Expenses:\", max_expenses)\n"
   ]
  },
  {
   "cell_type": "code",
   "execution_count": 10,
   "id": "3ebe6750",
   "metadata": {},
   "outputs": [
    {
     "name": "stdout",
     "output_type": "stream",
     "text": [
      "Minimum Sales: 5000\n",
      "Minimum Expenses: 3000\n"
     ]
    }
   ],
   "source": [
    "#2.3.Calculate and display the minimum sales and expenses.\n",
    "min_sales = sales_and_expenses['Sales'].min()\n",
    "min_expenses = sales_and_expenses['Expenses'].min()\n",
    "\n",
    "print(\"Minimum Sales:\", min_sales)\n",
    "print(\"Minimum Expenses:\", min_expenses)\n"
   ]
  },
  {
   "cell_type": "code",
   "execution_count": 11,
   "id": "8153f97b",
   "metadata": {},
   "outputs": [
    {
     "name": "stdout",
     "output_type": "stream",
     "text": [
      "Average Sales: 6625.0\n",
      "Average Expenses: 3750.0\n"
     ]
    }
   ],
   "source": [
    "#2.4.Calculate and display the average sales and expenses.\n",
    "average_sales = sales_and_expenses['Sales'].mean()\n",
    "average_expenses = sales_and_expenses['Expenses'].mean()\n",
    "\n",
    "print(\"Average Sales:\", average_sales)\n",
    "print(\"Average Expenses:\", average_expenses)\n"
   ]
  },
  {
   "cell_type": "code",
   "execution_count": 12,
   "id": "c203b87c",
   "metadata": {},
   "outputs": [
    {
     "name": "stdout",
     "output_type": "stream",
     "text": [
      "        Category  January  February  March  April\n",
      "0           Rent     1200      1300   1400   1500\n",
      "1      Utilities      200       220    240    250\n",
      "2      Groceries      300       320    330    350\n",
      "3  Entertainment      150       160    170    180\n"
     ]
    }
   ],
   "source": [
    "#3.1.Create a DataFrame named expenses with columns 'Category', 'January', 'February', 'March', and 'April', representing monthly expenses for different categories. Use below table.\n",
    "\n",
    "import pandas as pd\n",
    "\n",
    "data = {\n",
    "    'Category': ['Rent', 'Utilities', 'Groceries', 'Entertainment'],\n",
    "    'January': [1200, 200, 300, 150],\n",
    "    'February': [1300, 220, 320, 160],\n",
    "    'March': [1400, 240, 330, 170],\n",
    "    'April': [1500, 250, 350, 180]\n",
    "}\n",
    "\n",
    "\n",
    "expenses = pd.DataFrame(data)\n",
    "\n",
    "print(expenses)\n"
   ]
  },
  {
   "cell_type": "code",
   "execution_count": 13,
   "id": "a64d42f0",
   "metadata": {},
   "outputs": [
    {
     "name": "stdout",
     "output_type": "stream",
     "text": [
      "        Category  January  February  March  April  Max Expense\n",
      "0           Rent     1200      1300   1400   1500         1500\n",
      "1      Utilities      200       220    240    250          250\n",
      "2      Groceries      300       320    330    350          350\n",
      "3  Entertainment      150       160    170    180          180\n"
     ]
    }
   ],
   "source": [
    "#3.2.Calculate and display the maximum expense for each category.\n",
    "\n",
    "max_expenses = expenses[['January', 'February', 'March', 'April']].max(axis=1)\n",
    "\n",
    "expenses['Max Expense'] = max_expenses\n",
    "\n",
    "print(expenses)\n"
   ]
  },
  {
   "cell_type": "code",
   "execution_count": 14,
   "id": "758a5b1d",
   "metadata": {},
   "outputs": [
    {
     "name": "stdout",
     "output_type": "stream",
     "text": [
      "        Category  January  February  March  April  Max Expense  Min Expense\n",
      "0           Rent     1200      1300   1400   1500         1500         1200\n",
      "1      Utilities      200       220    240    250          250          200\n",
      "2      Groceries      300       320    330    350          350          300\n",
      "3  Entertainment      150       160    170    180          180          150\n"
     ]
    }
   ],
   "source": [
    "#3.3.Calculate and display the minimum expense for each category.\n",
    "\n",
    "min_expenses = expenses[['January', 'February', 'March', 'April']].min(axis=1)\n",
    "\n",
    "expenses['Min Expense'] = min_expenses\n",
    "\n",
    "print(expenses)\n"
   ]
  },
  {
   "cell_type": "code",
   "execution_count": 15,
   "id": "caacc66a",
   "metadata": {},
   "outputs": [
    {
     "name": "stdout",
     "output_type": "stream",
     "text": [
      "        Category  January  February  March  April  Max Expense  Min Expense  \\\n",
      "0           Rent     1200      1300   1400   1500         1500         1200   \n",
      "1      Utilities      200       220    240    250          250          200   \n",
      "2      Groceries      300       320    330    350          350          300   \n",
      "3  Entertainment      150       160    170    180          180          150   \n",
      "\n",
      "   Average Expense  \n",
      "0           1350.0  \n",
      "1            227.5  \n",
      "2            325.0  \n",
      "3            165.0  \n"
     ]
    }
   ],
   "source": [
    "#3.4.Calculate and display the average expense for each category.\n",
    "\n",
    "avg_expenses = expenses[['January', 'February', 'March', 'April']].mean(axis=1)\n",
    "\n",
    "expenses['Average Expense'] = avg_expenses\n",
    "\n",
    "print(expenses)\n"
   ]
  },
  {
   "cell_type": "code",
   "execution_count": null,
   "id": "08037edc",
   "metadata": {},
   "outputs": [],
   "source": []
  },
  {
   "cell_type": "code",
   "execution_count": null,
   "id": "ad98ddfd",
   "metadata": {},
   "outputs": [],
   "source": []
  },
  {
   "cell_type": "code",
   "execution_count": null,
   "id": "50b12505",
   "metadata": {},
   "outputs": [],
   "source": []
  },
  {
   "cell_type": "code",
   "execution_count": null,
   "id": "7f98e77c",
   "metadata": {},
   "outputs": [],
   "source": []
  }
 ],
 "metadata": {
  "kernelspec": {
   "display_name": "Python 3",
   "language": "python",
   "name": "python3"
  },
  "language_info": {
   "codemirror_mode": {
    "name": "ipython",
    "version": 3
   },
   "file_extension": ".py",
   "mimetype": "text/x-python",
   "name": "python",
   "nbconvert_exporter": "python",
   "pygments_lexer": "ipython3",
   "version": "3.12.9"
  }
 },
 "nbformat": 4,
 "nbformat_minor": 5
}
