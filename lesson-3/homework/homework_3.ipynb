{
 "cells": [
  {
   "cell_type": "code",
   "execution_count": null,
   "id": "f99826c9",
   "metadata": {},
   "outputs": [
    {
     "name": "stdout",
     "output_type": "stream",
     "text": [
      "cherry\n"
     ]
    }
   ],
   "source": [
    "#1.Create and Access List Elements\n",
    "fruits = [\"apple\", \"banana\", \"cherry\", \"mango\", \"orange\"]\n",
    "\n",
    "print(fruits[2])\n"
   ]
  },
  {
   "cell_type": "code",
   "execution_count": 2,
   "id": "8e218efc",
   "metadata": {},
   "outputs": [
    {
     "name": "stdout",
     "output_type": "stream",
     "text": [
      "[1, 2, 3, 4, 5, 6]\n"
     ]
    }
   ],
   "source": [
    "#2.Concatenate Two Lists\n",
    "list1 = [1, 2, 3]\n",
    "list2 = [4, 5, 6]\n",
    "\n",
    "combined_list = list1 + list2\n",
    "print(combined_list)\n"
   ]
  },
  {
   "cell_type": "code",
   "execution_count": 3,
   "id": "d6a10da5",
   "metadata": {},
   "outputs": [
    {
     "name": "stdout",
     "output_type": "stream",
     "text": [
      "[10, 40, 70]\n"
     ]
    }
   ],
   "source": [
    "#3.Extract Elements from a List\n",
    "numbers = [10, 20, 30, 40, 50, 60, 70]\n",
    "first = numbers[0]\n",
    "middle = numbers[len(numbers) // 2]\n",
    "last = numbers[-1]\n",
    "extracted = [first, middle, last]\n",
    "\n",
    "print(extracted)\n"
   ]
  },
  {
   "cell_type": "code",
   "execution_count": 4,
   "id": "fa27204e",
   "metadata": {},
   "outputs": [
    {
     "name": "stdout",
     "output_type": "stream",
     "text": [
      "('Inception', 'The Matrix', 'Interstellar', 'The Dark Knight', 'Parasite')\n"
     ]
    }
   ],
   "source": [
    "#4.Convert List to Tuple\n",
    "favorite_movies = [\"Inception\", \"The Matrix\", \"Interstellar\", \"The Dark Knight\", \"Parasite\"]\n",
    "movies_tuple = tuple(favorite_movies)\n",
    "print(movies_tuple)\n"
   ]
  },
  {
   "cell_type": "code",
   "execution_count": 5,
   "id": "41bd8f7e",
   "metadata": {},
   "outputs": [
    {
     "name": "stdout",
     "output_type": "stream",
     "text": [
      "Paris is in the list.\n"
     ]
    }
   ],
   "source": [
    "#5.Check Element in a List\n",
    "cities = [\"New York\", \"London\", \"Tokyo\", \"Paris\", \"Berlin\"]\n",
    "if \"Paris\" in cities:\n",
    "    print(\"Paris is in the list.\")\n",
    "else:\n",
    "    print(\"Paris is not in the list.\")\n"
   ]
  },
  {
   "cell_type": "code",
   "execution_count": 6,
   "id": "c7ce93d5",
   "metadata": {},
   "outputs": [
    {
     "name": "stdout",
     "output_type": "stream",
     "text": [
      "[1, 2, 3, 4, 5, 1, 2, 3, 4, 5]\n"
     ]
    }
   ],
   "source": [
    "#6. Duplicate a List Without Using Loops\n",
    "numbers = [1, 2, 3, 4, 5]\n",
    "duplicated = numbers * 2\n",
    "print(duplicated)\n"
   ]
  },
  {
   "cell_type": "code",
   "execution_count": 7,
   "id": "dddef9f9",
   "metadata": {},
   "outputs": [
    {
     "name": "stdout",
     "output_type": "stream",
     "text": [
      "[50, 20, 30, 40, 10]\n"
     ]
    }
   ],
   "source": [
    "#7. Swap First and Last Elements of a List\n",
    "numbers = [10, 20, 30, 40, 50]\n",
    "numbers[0], numbers[-1] = numbers[-1], numbers[0]\n",
    "print(numbers)\n"
   ]
  },
  {
   "cell_type": "code",
   "execution_count": 8,
   "id": "aa915d04",
   "metadata": {},
   "outputs": [
    {
     "name": "stdout",
     "output_type": "stream",
     "text": [
      "(4, 5, 6, 7)\n"
     ]
    }
   ],
   "source": [
    "#8. Slice a Tuple\n",
    "numbers = tuple(range(1, 11))\n",
    "slice_tuple = numbers[3:7]\n",
    "print(slice_tuple)\n"
   ]
  },
  {
   "cell_type": "code",
   "execution_count": 9,
   "metadata": {},
   "outputs": [
    {
     "name": "stdout",
     "output_type": "stream",
     "text": [
      "'blue' appears 3 times in the list.\n"
     ]
    }
   ],
   "source": [
    "#9.Count Occurrences in a List\n",
    "colors = [\"red\", \"blue\", \"green\", \"blue\", \"yellow\", \"blue\", \"purple\"]\n",
    "blue_count = colors.count(\"blue\")\n",
    "print(f\"'blue' appears {blue_count} times in the list.\")\n"
   ]
  },
  {
   "cell_type": "code",
   "execution_count": 10,
   "id": "424fed64",
   "metadata": {},
   "outputs": [
    {
     "name": "stdout",
     "output_type": "stream",
     "text": [
      "The index of 'lion' is: 2\n"
     ]
    }
   ],
   "source": [
    "#10.Find the Index of an Element in a Tuple\n",
    "animals = (\"elephant\", \"tiger\", \"lion\", \"giraffe\", \"zebra\")\n",
    "lion_index = animals.index(\"lion\")\n",
    "print(f\"The index of 'lion' is: {lion_index}\")\n"
   ]
  },
  {
   "cell_type": "code",
   "execution_count": 11,
   "id": "a31f06aa",
   "metadata": {},
   "outputs": [
    {
     "name": "stdout",
     "output_type": "stream",
     "text": [
      "(1, 2, 3, 4, 5, 6)\n"
     ]
    }
   ],
   "source": [
    "#11.Merge Two Tuples\n",
    "tuple1 = (1, 2, 3)\n",
    "tuple2 = (4, 5, 6)\n",
    "merged_tuple = tuple1 + tuple2\n",
    "print(merged_tuple)\n"
   ]
  },
  {
   "cell_type": "code",
   "execution_count": 12,
   "id": "797d6f61",
   "metadata": {},
   "outputs": [
    {
     "name": "stdout",
     "output_type": "stream",
     "text": [
      "Length of the list: 5\n",
      "Length of the tuple: 6\n"
     ]
    }
   ],
   "source": [
    "#12.Find the Length of a List and Tuple\n",
    "my_list = [10, 20, 30, 40, 50]\n",
    "my_tuple = (1, 2, 3, 4, 5, 6)\n",
    "list_length = len(my_list)\n",
    "tuple_length = len(my_tuple)\n",
    "\n",
    "print(f\"Length of the list: {list_length}\")\n",
    "print(f\"Length of the tuple: {tuple_length}\")\n"
   ]
  },
  {
   "cell_type": "code",
   "execution_count": 13,
   "id": "331f334b",
   "metadata": {},
   "outputs": [
    {
     "name": "stdout",
     "output_type": "stream",
     "text": [
      "[10, 20, 30, 40, 50]\n"
     ]
    }
   ],
   "source": [
    "#13. Convert Tuple to List\n",
    "numbers_tuple = (10, 20, 30, 40, 50)\n",
    "numbers_list = list(numbers_tuple)\n",
    "print(numbers_list)\n"
   ]
  },
  {
   "cell_type": "code",
   "execution_count": 14,
   "metadata": {},
   "outputs": [
    {
     "name": "stdout",
     "output_type": "stream",
     "text": [
      "Maximum value: 89\n",
      "Minimum value: 4\n"
     ]
    }
   ],
   "source": [
    "#14.Find Maximum and Minimum in a Tuple\n",
    "numbers = (15, 42, 7, 23, 89, 4)\n",
    "max_value = max(numbers)\n",
    "min_value = min(numbers)\n",
    "\n",
    "print(f\"Maximum value: {max_value}\")\n",
    "print(f\"Minimum value: {min_value}\")\n"
   ]
  },
  {
   "cell_type": "code",
   "execution_count": 15,
   "id": "24b7919c",
   "metadata": {},
   "outputs": [
    {
     "name": "stdout",
     "output_type": "stream",
     "text": [
      "('elderberry', 'date', 'cherry', 'banana', 'apple')\n"
     ]
    }
   ],
   "source": [
    "#15.Reverse a Tuple\n",
    "words = (\"apple\", \"banana\", \"cherry\", \"date\", \"elderberry\")\n",
    "reversed_words = words[::-1]\n",
    "print(reversed_words)\n"
   ]
  }
 ],
 "metadata": {
  "kernelspec": {
   "display_name": "Python 3",
   "language": "python",
   "name": "python3"
  },
  "language_info": {
   "codemirror_mode": {
    "name": "ipython",
    "version": 3
   },
   "file_extension": ".py",
   "mimetype": "text/x-python",
   "name": "python",
   "nbconvert_exporter": "python",
   "pygments_lexer": "ipython3",
   "version": "3.12.9"
  }
 },
 "nbformat": 4,
 "nbformat_minor": 5
}
