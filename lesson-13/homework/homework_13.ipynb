{
 "cells": [
  {
   "cell_type": "code",
   "execution_count": 1,
   "id": "143a7169",
   "metadata": {},
   "outputs": [
    {
     "name": "stdout",
     "output_type": "stream",
     "text": [
      "You are 26 years, 3 months, and 0 days old.\n"
     ]
    }
   ],
   "source": [
    "#1.Age Calculator: Ask the user to enter their birthdate. Calculate and print their age in years, months, and days.\n",
    "from datetime import datetime\n",
    "\n",
    "birthdate_str = input(\"Enter your birthdate (YYYY-MM-DD): \")\n",
    "\n",
    "birthdate = datetime.strptime(birthdate_str, \"%Y-%m-%d\")\n",
    "today = datetime.today()\n",
    "years = today.year - birthdate.year\n",
    "months = today.month - birthdate.month\n",
    "days = today.day - birthdate.day\n",
    "if days < 0:\n",
    "    months -= 1\n",
    "    last_month = today.month - 1 or 12\n",
    "    last_month_year = today.year if today.month != 1 else today.year - 1\n",
    "    days += (datetime(last_month_year, last_month % 12 + 1, 1) - datetime(last_month_year, last_month, 1)).days\n",
    "\n",
    "if months < 0:\n",
    "    years -= 1\n",
    "    months += 12\n",
    "\n",
    "print(f\"You are {years} years, {months} months, and {days} days old.\")\n"
   ]
  },
  {
   "cell_type": "code",
   "execution_count": 2,
   "id": "934b823e",
   "metadata": {},
   "outputs": [
    {
     "name": "stdout",
     "output_type": "stream",
     "text": [
      "There are 272 days until your next birthday!\n"
     ]
    }
   ],
   "source": [
    "#2.Days Until Next Birthday: Similar to the first exercise, but this time, calculate and print the number of days remaining until the user's next birthday.\n",
    "from datetime import datetime, timedelta\n",
    "\n",
    "birthdate_str = input(\"Enter your birthdate (YYYY-MM-DD): \")\n",
    "birthdate = datetime.strptime(birthdate_str, \"%Y-%m-%d\")\n",
    "\n",
    "today = datetime.today()\n",
    "\n",
    "next_birthday = birthdate.replace(year=today.year)\n",
    "\n",
    "if next_birthday < today:\n",
    "    next_birthday = next_birthday.replace(year=today.year + 1)\n",
    "\n",
    "days_until = (next_birthday - today).days\n",
    "\n",
    "print(f\"There are {days_until} days until your next birthday!\")\n"
   ]
  },
  {
   "cell_type": "code",
   "execution_count": 3,
   "metadata": {},
   "outputs": [
    {
     "name": "stdout",
     "output_type": "stream",
     "text": [
      "The meeting will end at: 1999-06-13 16:36\n"
     ]
    }
   ],
   "source": [
    "#3.Meeting Scheduler: Ask the user to enter the current date and time, as well as the duration of a meeting in hours and minutes. Calculate and print the date and time when the meeting will end.\n",
    "from datetime import datetime, timedelta\n",
    "current_str = input(\"Enter the current date and time (YYYY-MM-DD HH:MM): \")\n",
    "current_dt = datetime.strptime(current_str, \"%Y-%m-%d %H:%M\")\n",
    "hours = int(input(\"Enter meeting duration - Hours: \"))\n",
    "minutes = int(input(\"Enter meeting duration - Minutes: \"))\n",
    "\n",
    "duration = timedelta(hours=hours, minutes=minutes)\n",
    "end_time = current_dt + duration\n",
    "\n",
    "print(f\"The meeting will end at: {end_time.strftime('%Y-%m-%d %H:%M')}\")\n"
   ]
  },
  {
   "cell_type": "code",
   "execution_count": 5,
   "id": "cb70b837",
   "metadata": {},
   "outputs": [
    {
     "name": "stdout",
     "output_type": "stream",
     "text": [
      "The time in America/New_York is: 1999-06-13 03:00\n"
     ]
    }
   ],
   "source": [
    "#4.Timezone Converter: Create a program that allows the user to enter a date and time along with their current timezone, and then convert and print the date and time in another timezone of their choice.\n",
    "from datetime import datetime\n",
    "import pytz\n",
    "\n",
    "date_str = input(\"Enter the date and time (YYYY-MM-DD HH:MM): \")\n",
    "from_zone_str = input(\"Enter your current timezone (e.g., Asia/Tashkent): \")\n",
    "to_zone_str = input(\"Enter the target timezone (e.g., America/New_York): \")\n",
    "\n",
    "naive_dt = datetime.strptime(date_str, \"%Y-%m-%d %H:%M\")\n",
    "\n",
    "from_zone = pytz.timezone(from_zone_str)\n",
    "to_zone = pytz.timezone(to_zone_str)\n",
    "\n",
    "localized_dt = from_zone.localize(naive_dt)\n",
    "\n",
    "converted_dt = localized_dt.astimezone(to_zone)\n",
    "\n",
    "print(f\"The time in {to_zone_str} is: {converted_dt.strftime('%Y-%m-%d %H:%M')}\")\n"
   ]
  },
  {
   "cell_type": "code",
   "execution_count": 6,
   "id": "bdb57625",
   "metadata": {},
   "outputs": [
    {
     "name": "stdout",
     "output_type": "stream",
     "text": [
      "\n",
      "Countdown started...\n",
      "\n",
      "Time remaining: 976d 4h 16m 26s\r"
     ]
    },
    {
     "ename": "KeyboardInterrupt",
     "evalue": "",
     "output_type": "error",
     "traceback": [
      "\u001b[31m---------------------------------------------------------------------------\u001b[39m",
      "\u001b[31mKeyboardInterrupt\u001b[39m                         Traceback (most recent call last)",
      "\u001b[36mCell\u001b[39m\u001b[36m \u001b[39m\u001b[32mIn[6]\u001b[39m\u001b[32m, line 22\u001b[39m\n\u001b[32m     19\u001b[39m minutes, seconds = \u001b[38;5;28mdivmod\u001b[39m(remainder, \u001b[32m60\u001b[39m)\n\u001b[32m     21\u001b[39m \u001b[38;5;28mprint\u001b[39m(\u001b[33mf\u001b[39m\u001b[33m\"\u001b[39m\u001b[33mTime remaining: \u001b[39m\u001b[38;5;132;01m{\u001b[39;00mdays\u001b[38;5;132;01m}\u001b[39;00m\u001b[33md \u001b[39m\u001b[38;5;132;01m{\u001b[39;00mhours\u001b[38;5;132;01m}\u001b[39;00m\u001b[33mh \u001b[39m\u001b[38;5;132;01m{\u001b[39;00mminutes\u001b[38;5;132;01m}\u001b[39;00m\u001b[33mm \u001b[39m\u001b[38;5;132;01m{\u001b[39;00mseconds\u001b[38;5;132;01m}\u001b[39;00m\u001b[33ms\u001b[39m\u001b[33m\"\u001b[39m, end=\u001b[33m'\u001b[39m\u001b[38;5;130;01m\\r\u001b[39;00m\u001b[33m'\u001b[39m)\n\u001b[32m---> \u001b[39m\u001b[32m22\u001b[39m \u001b[43mtime\u001b[49m\u001b[43m.\u001b[49m\u001b[43msleep\u001b[49m\u001b[43m(\u001b[49m\u001b[32;43m1\u001b[39;49m\u001b[43m)\u001b[49m\n",
      "\u001b[31mKeyboardInterrupt\u001b[39m: "
     ]
    }
   ],
   "source": [
    "#5.Countdown Timer: Implement a countdown timer. Ask the user to input a future date and time, and then continuously print the time remaining until that point in regular intervals (e.g., every second).\n",
    "from datetime import datetime\n",
    "import time\n",
    "\n",
    "target_str = input(\"Enter the future date and time (YYYY-MM-DD HH:MM:SS): \")\n",
    "target_dt = datetime.strptime(target_str, \"%Y-%m-%d %H:%M:%S\")\n",
    "\n",
    "print(\"\\nCountdown started...\\n\")\n",
    "\n",
    "while True:\n",
    "    now = datetime.now()\n",
    "    remaining = target_dt - now\n",
    "\n",
    "    if remaining.total_seconds() <= 0:\n",
    "        print(\"⏰ Time's up!\")\n",
    "        break\n",
    "    days = remaining.days\n",
    "    hours, remainder = divmod(remaining.seconds, 3600)\n",
    "    minutes, seconds = divmod(remainder, 60)\n",
    "\n",
    "    print(f\"Time remaining: {days}d {hours}h {minutes}m {seconds}s\", end='\\r')\n",
    "    time.sleep(1)\n"
   ]
  },
  {
   "cell_type": "code",
   "execution_count": 8,
   "id": "3256349a",
   "metadata": {},
   "outputs": [
    {
     "name": "stdout",
     "output_type": "stream",
     "text": [
      "✅ This is a valid email address.\n"
     ]
    }
   ],
   "source": [
    "#6.Email Validator: Write a program that validates email addresses. Ask the user to input an email address, and check if it follows a valid email format.\n",
    "import re\n",
    "\n",
    "email_pattern = r'^[a-zA-Z0-9_.+-]+@[a-zA-Z0-9-]+\\.[a-zA-Z0-9-.]+$'\n",
    "\n",
    "email = input(\"Enter an email address to validate: \")\n",
    "\n",
    "if re.match(email_pattern, email):\n",
    "    print(\"✅ This is a valid email address.\")\n",
    "else:\n",
    "    print(\"❌ This is NOT a valid email address.\")\n"
   ]
  },
  {
   "cell_type": "code",
   "execution_count": 10,
   "id": "dfa86c75",
   "metadata": {},
   "outputs": [
    {
     "name": "stdout",
     "output_type": "stream",
     "text": [
      "Formatted phone number: (123) 456-7890\n"
     ]
    }
   ],
   "source": [
    "#7.Phone Number Formatter: Create a program that takes a phone number as input and formats it according to a standard format. For example, convert \"1234567890\" to \"(123) 456-7890\".\n",
    "\n",
    "def format_phone_number(phone):\n",
    "  \n",
    "    digits = ''.join(filter(str.isdigit, phone))\n",
    "\n",
    "    if len(digits) == 10:\n",
    "        formatted = f\"({digits[:3]}) {digits[3:6]}-{digits[6:]}\"\n",
    "        print(f\"Formatted phone number: {formatted}\")\n",
    "    else:\n",
    "        print(\"❌ Invalid input. Please enter a 10-digit phone number.\")\n",
    "\n",
    "user_input = input(\"Enter a 10-digit phone number: \")\n",
    "format_phone_number(user_input)\n"
   ]
  },
  {
   "cell_type": "code",
   "execution_count": 11,
   "id": "04565869",
   "metadata": {},
   "outputs": [
    {
     "name": "stdout",
     "output_type": "stream",
     "text": [
      "Password is weak:\n",
      "❌ Password must contain at least one lowercase letter.\n"
     ]
    }
   ],
   "source": [
    "#8.Password Strength Checker: Implement a password strength checker. Ask the user to input a password and check if it meets certain criteria (e.g., minimum length, contains at least one uppercase letter, one lowercase letter, and one digit).\n",
    "import re\n",
    "\n",
    "def check_password_strength(password):\n",
    "    length_error = len(password) < 8\n",
    "    uppercase_error = not re.search(r\"[A-Z]\", password)\n",
    "    lowercase_error = not re.search(r\"[a-z]\", password)\n",
    "    digit_error = not re.search(r\"\\d\", password)\n",
    "    errors = []\n",
    "    if length_error:\n",
    "        errors.append(\"❌ Password must be at least 8 characters long.\")\n",
    "    if uppercase_error:\n",
    "        errors.append(\"❌ Password must contain at least one uppercase letter.\")\n",
    "    if lowercase_error:\n",
    "        errors.append(\"❌ Password must contain at least one lowercase letter.\")\n",
    "    if digit_error:\n",
    "        errors.append(\"❌ Password must contain at least one digit.\")\n",
    "\n",
    "    if errors:\n",
    "        print(\"Password is weak:\")\n",
    "        for error in errors:\n",
    "            print(error)\n",
    "    else:\n",
    "        print(\"✅ Password is strong!\")\n",
    "\n",
    "user_password = input(\"Enter a password to check its strength: \")\n",
    "check_password_strength(user_password)\n"
   ]
  },
  {
   "cell_type": "code",
   "execution_count": 12,
   "id": "326ffaf0",
   "metadata": {},
   "outputs": [
    {
     "name": "stdout",
     "output_type": "stream",
     "text": [
      "✅ Found 'love' 1 time(s) at positions: [131]\n"
     ]
    }
   ],
   "source": [
    "#9.Word Finder: Develop a program that finds all occurrences of a specific word in a given text. Ask the user to input a word, and then search for and print all occurrences of that word in a sample text.\n",
    "import re\n",
    "\n",
    "sample_text = \"\"\"\n",
    "Python is a powerful programming language. Python is used in web development, data science, automation, and more.\n",
    "Many developers love Python because of its simplicity and readability.\n",
    "\"\"\"\n",
    "\n",
    "search_word = input(\"Enter the word to find: \").strip()\n",
    "\n",
    "matches = [match.start() for match in re.finditer(rf'\\b{re.escape(search_word)}\\b', sample_text, re.IGNORECASE)]\n",
    "\n",
    "if matches:\n",
    "    print(f\"✅ Found '{search_word}' {len(matches)} time(s) at positions: {matches}\")\n",
    "else:\n",
    "    print(f\"❌ The word '{search_word}' was not found in the text.\")\n"
   ]
  },
  {
   "cell_type": "code",
   "execution_count": 13,
   "id": "48d4eec4",
   "metadata": {},
   "outputs": [
    {
     "name": "stdout",
     "output_type": "stream",
     "text": [
      "❌ No dates found in the text.\n"
     ]
    }
   ],
   "source": [
    "#10.Date Extractor: Write a program that extracts dates from a given text. Ask the user to input a text, and then identify and print all the dates present in the text.\n",
    "import re\n",
    "\n",
    "text = input(\"Enter a text containing dates: \")\n",
    "\n",
    "\n",
    "date_patterns = [\n",
    "    r'\\b\\d{1,2}[/-]\\d{1,2}[/-]\\d{2,4}\\b',                     \n",
    "    r'\\b\\d{4}[./-]\\d{1,2}[./-]\\d{1,2}\\b',                    \n",
    "    r'\\b(?:Jan|Feb|Mar|Apr|May|Jun|Jul|Aug|Sep|Oct|Nov|Dec)[a-z]*\\.?\\s+\\d{1,2},?\\s+\\d{4}\\b',  \n",
    "]\n",
    "\n",
    "combined_pattern = '|'.join(date_patterns)\n",
    "\n",
    "matches = re.findall(combined_pattern, text, re.IGNORECASE)\n",
    "\n",
    "if matches:\n",
    "    print(\"📅 Dates found in the text:\")\n",
    "    for date in matches:\n",
    "        print(f\" - {date}\")\n",
    "else:\n",
    "    print(\"❌ No dates found in the text.\")\n"
   ]
  },
  {
   "cell_type": "code",
   "execution_count": null,
   "id": "e30cccb3",
   "metadata": {},
   "outputs": [],
   "source": []
  }
 ],
 "metadata": {
  "kernelspec": {
   "display_name": "Python 3",
   "language": "python",
   "name": "python3"
  },
  "language_info": {
   "codemirror_mode": {
    "name": "ipython",
    "version": 3
   },
   "file_extension": ".py",
   "mimetype": "text/x-python",
   "name": "python",
   "nbconvert_exporter": "python",
   "pygments_lexer": "ipython3",
   "version": "3.12.9"
  }
 },
 "nbformat": 4,
 "nbformat_minor": 5
}
