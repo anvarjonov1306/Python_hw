{
 "cells": [
  {
   "cell_type": "code",
   "execution_count": 1,
   "id": "3e19c6ba",
   "metadata": {},
   "outputs": [
    {
     "name": "stdout",
     "output_type": "stream",
     "text": [
      "Database and Roster table created successfully.\n"
     ]
    }
   ],
   "source": [
    "#1.Create a new database with a table named Roster that has three fields: Name, Species, and Age. The Name and Species columns should be text fields, and the Age column should be an integer field.\n",
    "import sqlite3\n",
    "\n",
    "conn = sqlite3.connect('animal_roster.db')\n",
    "cursor = conn.cursor()\n",
    "\n",
    "cursor.execute('''\n",
    "    CREATE TABLE Roster (\n",
    "        Name TEXT,\n",
    "        Species TEXT,\n",
    "        Age INTEGER\n",
    "    )\n",
    "''')\n",
    "conn.commit()\n",
    "conn.close()\n",
    "\n",
    "print(\"Database and Roster table created successfully.\")\n"
   ]
  },
  {
   "cell_type": "code",
   "execution_count": 2,
   "id": "bc40f1b2",
   "metadata": {},
   "outputs": [
    {
     "name": "stdout",
     "output_type": "stream",
     "text": [
      "Roster table populated successfully.\n"
     ]
    }
   ],
   "source": [
    "#2.Populate your new table with the following values:\n",
    "#Name\tSpecies\tAge\n",
    "#Benjamin Sisko\tHuman\t40\n",
    "#Jadzia Dax\tTrill\t300\n",
    "#Kira Nerys\tBajoran\t29\n",
    "\n",
    "\n",
    "import sqlite3\n",
    "\n",
    "conn = sqlite3.connect('animal_roster.db')\n",
    "cursor = conn.cursor()\n",
    "\n",
    "roster_data = [\n",
    "    (\"Benjamin Sisko\", \"Human\", 40),\n",
    "    (\"Jadzia Dax\", \"Trill\", 300),\n",
    "    (\"Kira Nerys\", \"Bajoran\", 29)\n",
    "]\n",
    "\n",
    "cursor.executemany('''\n",
    "    INSERT INTO Roster (Name, Species, Age)\n",
    "    VALUES (?, ?, ?)\n",
    "''', roster_data)\n",
    "\n",
    "conn.commit()\n",
    "conn.close()\n",
    "\n",
    "print(\"Roster table populated successfully.\")\n"
   ]
  },
  {
   "cell_type": "code",
   "execution_count": 3,
   "id": "386cac77",
   "metadata": {},
   "outputs": [
    {
     "name": "stdout",
     "output_type": "stream",
     "text": [
      "Name updated successfully.\n"
     ]
    }
   ],
   "source": [
    "#3. Update the Name of Jadzia Dax to be Ezri Dax\n",
    "import sqlite3\n",
    "\n",
    "conn = sqlite3.connect('animal_roster.db')\n",
    "cursor = conn.cursor()\n",
    "\n",
    "cursor.execute('''\n",
    "    UPDATE Roster\n",
    "    SET Name = 'Ezri Dax'\n",
    "    WHERE Name = 'Jadzia Dax'\n",
    "''')\n",
    "\n",
    "conn.commit()\n",
    "conn.close()\n",
    "\n",
    "print(\"Name updated successfully.\")\n"
   ]
  },
  {
   "cell_type": "code",
   "execution_count": 4,
   "id": "041b0bd7",
   "metadata": {},
   "outputs": [
    {
     "name": "stdout",
     "output_type": "stream",
     "text": [
      "Name: Kira Nerys, Age: 29\n"
     ]
    }
   ],
   "source": [
    "#4.Display the Name and Age of everyone in the table classified as Bajoran.\n",
    "import sqlite3\n",
    "\n",
    "conn = sqlite3.connect('animal_roster.db')\n",
    "cursor = conn.cursor()\n",
    "\n",
    "cursor.execute('''\n",
    "    SELECT Name, Age\n",
    "    FROM Roster\n",
    "    WHERE Species = 'Bajoran'\n",
    "''')\n",
    "\n",
    "bajoran_roster = cursor.fetchall()\n",
    "for name, age in bajoran_roster:\n",
    "    print(f\"Name: {name}, Age: {age}\")\n",
    "\n",
    "conn.close()\n"
   ]
  },
  {
   "cell_type": "code",
   "execution_count": null,
   "id": "97075b22",
   "metadata": {},
   "outputs": [],
   "source": []
  },
  {
   "cell_type": "code",
   "execution_count": null,
   "id": "3e879ebb",
   "metadata": {},
   "outputs": [],
   "source": []
  },
  {
   "cell_type": "code",
   "execution_count": null,
   "id": "2860b801",
   "metadata": {},
   "outputs": [],
   "source": []
  },
  {
   "cell_type": "code",
   "execution_count": null,
   "metadata": {},
   "outputs": [],
   "source": []
  },
  {
   "cell_type": "code",
   "execution_count": null,
   "id": "a96f7726",
   "metadata": {},
   "outputs": [],
   "source": []
  },
  {
   "cell_type": "code",
   "execution_count": null,
   "id": "9e55bdde",
   "metadata": {},
   "outputs": [],
   "source": []
  },
  {
   "cell_type": "code",
   "execution_count": null,
   "metadata": {},
   "outputs": [],
   "source": []
  },
  {
   "cell_type": "code",
   "execution_count": null,
   "id": "9e20dbd7",
   "metadata": {},
   "outputs": [],
   "source": []
  },
  {
   "cell_type": "code",
   "execution_count": null,
   "id": "df2fa747",
   "metadata": {},
   "outputs": [],
   "source": []
  },
  {
   "cell_type": "code",
   "execution_count": null,
   "id": "6e23f2d7",
   "metadata": {},
   "outputs": [],
   "source": []
  },
  {
   "cell_type": "code",
   "execution_count": null,
   "id": "86d2668d",
   "metadata": {},
   "outputs": [],
   "source": []
  }
 ],
 "metadata": {
  "kernelspec": {
   "display_name": "Python 3",
   "language": "python",
   "name": "python3"
  },
  "language_info": {
   "codemirror_mode": {
    "name": "ipython",
    "version": 3
   },
   "file_extension": ".py",
   "mimetype": "text/x-python",
   "name": "python",
   "nbconvert_exporter": "python",
   "pygments_lexer": "ipython3",
   "version": "3.12.9"
  }
 },
 "nbformat": 4,
 "nbformat_minor": 5
}
