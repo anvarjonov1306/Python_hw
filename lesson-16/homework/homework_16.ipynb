{
 "cells": [
  {
   "cell_type": "code",
   "execution_count": 1,
   "id": "7fbb7689",
   "metadata": {},
   "outputs": [
    {
     "name": "stdout",
     "output_type": "stream",
     "text": [
      "Original List: [12.23, 13.32, 100, 36.32]\n",
      "One-dimensional NumPy array: [ 12.23  13.32 100.    36.32]\n"
     ]
    }
   ],
   "source": [
    "#1.Write a NumPy program to convert a list of numeric values into a one-dimensional NumPy array.\n",
    "#Expected Output:\n",
    "#Original List: [12.23, 13.32, 100, 36.32] One-dimensional NumPy array: [ 12.23 13.32 100. 36.32]\n",
    "\n",
    "import numpy as np\n",
    "\n",
    "original_list = [12.23, 13.32, 100, 36.32]\n",
    "\n",
    "array = np.array(original_list)\n",
    "\n",
    "print(\"Original List:\", original_list)\n",
    "print(\"One-dimensional NumPy array:\", array)\n"
   ]
  },
  {
   "cell_type": "code",
   "execution_count": 2,
   "id": "0f599c76",
   "metadata": {},
   "outputs": [
    {
     "name": "stdout",
     "output_type": "stream",
     "text": [
      "[[ 2  3  4]\n",
      " [ 5  6  7]\n",
      " [ 8  9 10]]\n"
     ]
    }
   ],
   "source": [
    "#2.Write a NumPy program to create a 3x3 matrix with values ranging from 2 to 10.\n",
    "#Expected Output:\n",
    "#[[ 2 3 4] [ 5 6 7] [ 8 9 10]]\n",
    "\n",
    "import numpy as np\n",
    "\n",
    "matrix = np.arange(2, 11).reshape(3, 3)\n",
    "\n",
    "print(matrix)\n"
   ]
  },
  {
   "cell_type": "code",
   "execution_count": 3,
   "id": "13793516",
   "metadata": {},
   "outputs": [
    {
     "name": "stdout",
     "output_type": "stream",
     "text": [
      "Original vector: [0. 0. 0. 0. 0. 0. 0. 0. 0. 0.]\n",
      "Updated vector: [ 0.  0.  0.  0.  0.  0. 11.  0.  0.  0.]\n"
     ]
    }
   ],
   "source": [
    "#3.Write a NumPy program to create a null vector of size 10 and update the sixth value to 11.\n",
    "#[ 0. 0. 0. 0. 0. 0. 0. 0. 0. 0.]\n",
    "#Update sixth value to 11 [ 0. 0. 0. 0. 0. 0. 11. 0. 0. 0.]\n",
    "\n",
    "import numpy as np\n",
    "\n",
    "vector = np.zeros(10)\n",
    "print(\"Original vector:\", vector)\n",
    "\n",
    "vector[6] = 11\n",
    "\n",
    "print(\"Updated vector:\", vector)\n"
   ]
  },
  {
   "cell_type": "code",
   "execution_count": 4,
   "id": "3de8c8f8",
   "metadata": {},
   "outputs": [
    {
     "name": "stdout",
     "output_type": "stream",
     "text": [
      "[12 13 14 15 16 17 18 19 20 21 22 23 24 25 26 27 28 29 30 31 32 33 34 35\n",
      " 36 37]\n"
     ]
    }
   ],
   "source": [
    "#4.Write a NumPy program to create an array with values ranging from 12 to 38.\n",
    "#Expected Output:\n",
    "#[12 13 14 15 16 17 18 19 20 21 22 23 24 25 26 27 28 29 30 31 32 33 34 35 36 37]\n",
    "import numpy as np\n",
    "\n",
    "array = np.arange(12, 38)\n",
    "\n",
    "print(array)\n"
   ]
  },
  {
   "cell_type": "code",
   "execution_count": 5,
   "id": "6220646c",
   "metadata": {},
   "outputs": [
    {
     "name": "stdout",
     "output_type": "stream",
     "text": [
      "Original array: [1 2 3 4]\n",
      "Converted to float: [1. 2. 3. 4.]\n"
     ]
    }
   ],
   "source": [
    "#5.Write a NumPy program to convert an array to a floating type.\n",
    "#Sample output:\n",
    "#Original array [1, 2, 3, 4]\n",
    "\n",
    "import numpy as np\n",
    "original_array = np.array([1, 2, 3, 4])\n",
    "print(\"Original array:\", original_array)\n",
    "float_array = original_array.astype(float)\n",
    "print(\"Converted to float:\", float_array)\n"
   ]
  },
  {
   "cell_type": "code",
   "execution_count": 6,
   "metadata": {},
   "outputs": [
    {
     "name": "stdout",
     "output_type": "stream",
     "text": [
      "Values in Centigrade degrees: [-17.78 -11.11   7.34   1.11  37.73   0.  ]\n",
      "Values in Fahrenheit degrees: [-4.0000e-03  1.2002e+01  4.5212e+01  3.3998e+01  9.9914e+01  3.2000e+01]\n"
     ]
    }
   ],
   "source": [
    "#6.Write a NumPy program to convert Centigrade degrees into Fahrenheit degrees. Centigrade values are stored in a NumPy array.\n",
    "#Sample Array [0, 12, 45.21, 34, 99.91] [-17.78, -11.11, 7.34, 1.11, 37.73, 0. ]\n",
    "#Expected Output:\n",
    "#Values in Fahrenheit degrees: [ 0. 12. 45.21 34. 99.91 32. ]\n",
    "#Values in Centigrade degrees: [-17.78 -11.11 7.34 1.11 37.73 0. ]\n",
    "#Values in Centigrade degrees: [-17.78 -11.11 7.34 1.11 37.73 0. ]\n",
    "#Values in Fahrenheit degrees: [-0. 12. 45.21 34. 99.91 32. ]\n",
    "\n",
    "import numpy as np\n",
    "\n",
    "centigrade_values = np.array([-17.78, -11.11, 7.34, 1.11, 37.73, 0.])\n",
    "\n",
    "fahrenheit_values = centigrade_values * 9 / 5 + 32\n",
    "\n",
    "print(\"Values in Centigrade degrees:\", centigrade_values)\n",
    "print(\"Values in Fahrenheit degrees:\", fahrenheit_values)\n"
   ]
  },
  {
   "cell_type": "code",
   "execution_count": 7,
   "id": "7c8dcb09",
   "metadata": {},
   "outputs": [
    {
     "name": "stdout",
     "output_type": "stream",
     "text": [
      "Original array: [10 20 30]\n",
      "After append values to the end of the array: [10 20 30 40 50 60 70 80 90]\n"
     ]
    }
   ],
   "source": [
    "#7.Write a NumPy program to append values to the end of an array.\n",
    "#Expected Output:\n",
    "#Original array: [10, 20, 30]\n",
    "#After append values to the end of the array: [10 20 30 40 50 60 70 80 90]\n",
    "\n",
    "import numpy as np\n",
    "\n",
    "original_array = np.array([10, 20, 30])\n",
    "print(\"Original array:\", original_array)\n",
    "\n",
    "values_to_append = [40, 50, 60, 70, 80, 90]\n",
    "\n",
    "updated_array = np.append(original_array, values_to_append)\n",
    "print(\"After append values to the end of the array:\", updated_array)\n"
   ]
  },
  {
   "cell_type": "code",
   "execution_count": 8,
   "id": "338de364",
   "metadata": {},
   "outputs": [
    {
     "name": "stdout",
     "output_type": "stream",
     "text": [
      "Random Array: [16.42250417 43.16148847 50.67175325 69.35358025 59.30335093 70.74147939\n",
      " 12.63295474 87.25332357 75.69591434 75.9994732 ]\n",
      "Mean: 56.12358223112866\n",
      "Median: 64.32846559028633\n",
      "Standard Deviation: 24.106769398562587\n"
     ]
    }
   ],
   "source": [
    "#8.Create a random NumPy array of 10 elements and calculate the mean, median, and standard deviation of the array.\n",
    "import numpy as np\n",
    "\n",
    "random_array = np.random.rand(10) * 100  # Random values between 0 and 100\n",
    "\n",
    "mean_value = np.mean(random_array)\n",
    "median_value = np.median(random_array)\n",
    "std_deviation = np.std(random_array)\n",
    "\n",
    "print(\"Random Array:\", random_array)\n",
    "print(\"Mean:\", mean_value)\n",
    "print(\"Median:\", median_value)\n",
    "print(\"Standard Deviation:\", std_deviation)\n"
   ]
  },
  {
   "cell_type": "code",
   "execution_count": 10,
   "id": "420dbc82",
   "metadata": {},
   "outputs": [
    {
     "name": "stdout",
     "output_type": "stream",
     "text": [
      "Random 10x10 Array:\n",
      " [[0.75966992 0.2958067  0.27787937 0.82493036 0.82729235 0.86043613\n",
      "  0.34329554 0.57731567 0.73487571 0.59751147]\n",
      " [0.84401248 0.43768926 0.5549774  0.53792832 0.16733106 0.60396041\n",
      "  0.77700812 0.83414265 0.85366133 0.5966634 ]\n",
      " [0.36726518 0.06133022 0.80521116 0.55817856 0.77501382 0.15084464\n",
      "  0.17455797 0.97045556 0.17630072 0.8913508 ]\n",
      " [0.13112853 0.05165068 0.29004462 0.23059228 0.20785016 0.02366888\n",
      "  0.09324091 0.55970287 0.22032261 0.38009678]\n",
      " [0.98525271 0.54542148 0.89638723 0.63726948 0.44765257 0.85641439\n",
      "  0.94129318 0.59113609 0.42980025 0.76313593]\n",
      " [0.68194893 0.34966422 0.28177412 0.78703504 0.58305027 0.58552067\n",
      "  0.79751074 0.41006691 0.05639091 0.98381067]\n",
      " [0.72901671 0.40151029 0.65554296 0.70662053 0.04579712 0.58375042\n",
      "  0.46901199 0.32748026 0.16329639 0.8063214 ]\n",
      " [0.76042673 0.42144937 0.31866096 0.6740841  0.48924384 0.36703321\n",
      "  0.83458304 0.75509836 0.11840681 0.5399306 ]\n",
      " [0.73651584 0.3242794  0.25148728 0.79131491 0.69415399 0.99531542\n",
      "  0.03928027 0.33749844 0.78151997 0.99283923]\n",
      " [0.09012784 0.10328715 0.85601823 0.26791163 0.61973971 0.96490769\n",
      "  0.08156782 0.8070547  0.31433755 0.42495716]]\n",
      "\n",
      "Minimum value: 0.02366887520692751\n",
      "Maximum value: 0.9953154219320866\n"
     ]
    }
   ],
   "source": [
    "#9.Create a 10x10 array with random values and find the minimum and maximum values.\n",
    "import numpy as np\n",
    "\n",
    "random_array = np.random.rand(10, 10)\n",
    "\n",
    "min_value = np.min(random_array)\n",
    "max_value = np.max(random_array)\n",
    "\n",
    "print(\"Random 10x10 Array:\\n\", random_array)\n",
    "print(\"\\nMinimum value:\", min_value)\n",
    "print(\"Maximum value:\", max_value)\n"
   ]
  },
  {
   "cell_type": "code",
   "execution_count": 11,
   "id": "92712bfc",
   "metadata": {},
   "outputs": [
    {
     "name": "stdout",
     "output_type": "stream",
     "text": [
      "3x3x3 Random Array:\n",
      " [[[0.84249121 0.93079072 0.57063241]\n",
      "  [0.20314356 0.23678221 0.96368336]\n",
      "  [0.24690599 0.75129684 0.2150303 ]]\n",
      "\n",
      " [[0.57586642 0.13852221 0.22479387]\n",
      "  [0.86417993 0.68076951 0.60673504]\n",
      "  [0.18806847 0.6949056  0.61306187]]\n",
      "\n",
      " [[0.51469228 0.67759028 0.61606845]\n",
      "  [0.99856448 0.48219093 0.95639517]\n",
      "  [0.75471781 0.97686628 0.31450228]]]\n"
     ]
    }
   ],
   "source": [
    "#10.Create a 3x3x3 array with random values.\n",
    "import numpy as np\n",
    "random_array = np.random.rand(3, 3, 3)\n",
    "\n",
    "print(\"3x3x3 Random Array:\\n\", random_array)\n"
   ]
  },
  {
   "cell_type": "code",
   "execution_count": null,
   "id": "99af0f1b",
   "metadata": {},
   "outputs": [],
   "source": []
  }
 ],
 "metadata": {
  "kernelspec": {
   "display_name": "Python 3",
   "language": "python",
   "name": "python3"
  },
  "language_info": {
   "codemirror_mode": {
    "name": "ipython",
    "version": 3
   },
   "file_extension": ".py",
   "mimetype": "text/x-python",
   "name": "python",
   "nbconvert_exporter": "python",
   "pygments_lexer": "ipython3",
   "version": "3.12.9"
  }
 },
 "nbformat": 4,
 "nbformat_minor": 5
}
