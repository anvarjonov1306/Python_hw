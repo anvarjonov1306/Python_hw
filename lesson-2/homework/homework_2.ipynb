{
 "cells": [
  {
   "cell_type": "code",
   "execution_count": 3,
   "id": "5a0c8266",
   "metadata": {},
   "outputs": [
    {
     "name": "stdout",
     "output_type": "stream",
     "text": [
      "Hello, John! You are 28 years old in 2025.\n"
     ]
    }
   ],
   "source": [
    "#1. Age Calculator\n",
    "from datetime import datetime\n",
    "\n",
    "name = input(\"What is your name? \")\n",
    "birth_year = input(\"What year were you born? \")\n",
    "try:\n",
    "    birth_year = int(birth_year)\n",
    "    current_year = datetime.now().year\n",
    "    age = current_year - birth_year\n",
    "\n",
    "    print(f\"Hello, {name}! You are {age} years old in {current_year}.\")\n",
    "except ValueError:\n",
    "    print(\"Please enter a valid year.\")\n"
   ]
  },
  {
   "cell_type": "code",
   "execution_count": null,
   "id": "3bccdb6e",
   "metadata": {},
   "outputs": [
    {
     "name": "stdout",
     "output_type": "stream",
     "text": [
      "No car brands found in the text.\n"
     ]
    }
   ],
   "source": [
    "#2. Extract Car Names\n",
    "txt = 'LMaasleitbtui'\n",
    "car_brands = ['Tesla', 'BMW', 'Audi', 'Mercedes', 'Toyota', 'Honda', 'Ford', 'Lexus', 'Mazda', 'Jeep', 'Kia']\n",
    "txt_lower = txt.lower()\n",
    "found_cars = []\n",
    "for brand in car_brands:\n",
    "    if brand.lower() in txt_lower:\n",
    "        found_cars.append(brand)\n",
    "if found_cars:\n",
    "    print(\"Found car brand(s):\", ', '.join(found_cars))\n",
    "else:\n",
    "    print(\"No car brands found in the text.\")\n"
   ]
  },
  {
   "cell_type": "code",
   "execution_count": null,
   "id": "7d29e056",
   "metadata": {},
   "outputs": [
    {
     "name": "stdout",
     "output_type": "stream",
     "text": [
      "Found car brand(s): Mazda\n"
     ]
    }
   ],
   "source": [
    "#3. Extract Car Names\n",
    "from collections import Counter\n",
    "txt = 'MsaatmiazD'.lower()\n",
    "car_brands = ['Tesla', 'BMW', 'Audi', 'Mercedes', 'Toyota', 'Honda', 'Ford', 'Lexus', 'Mazda', 'Jeep', 'Kia']\n",
    "\n",
    "txt_counter = Counter(txt)\n",
    "\n",
    "def is_brand_in_text(brand, txt_counter):\n",
    "    brand_counter = Counter(brand.lower())\n",
    "    return all(txt_counter[char] >= count for char, count in brand_counter.items())\n",
    "\n",
    "found = [brand for brand in car_brands if is_brand_in_text(brand, txt_counter)]\n",
    "\n",
    "if found:\n",
    "    print(\"Found car brand(s):\", \", \".join(found))\n",
    "else:\n",
    "    print(\"No car brands found in the text.\")\n"
   ]
  },
  {
   "cell_type": "code",
   "execution_count": null,
   "id": "602e6786",
   "metadata": {},
   "outputs": [
    {
     "name": "stdout",
     "output_type": "stream",
     "text": [
      "Residence area: London\n"
     ]
    }
   ],
   "source": [
    "#4.Extract Residence Area\n",
    "import re\n",
    "txt = \"I'am John. I am from London\"\n",
    "match = re.search(r\"I am from ([A-Za-z\\s]+)\", txt)\n",
    "if match:\n",
    "    residence_area = match.group(1).strip()\n",
    "    print(\"Residence area:\", residence_area)\n",
    "else:\n",
    "    print(\"No residence area found.\")\n"
   ]
  },
  {
   "cell_type": "code",
   "execution_count": 8,
   "metadata": {},
   "outputs": [
    {
     "name": "stdout",
     "output_type": "stream",
     "text": [
      "Reversed string: olleh\n"
     ]
    }
   ],
   "source": [
    "#5.Reverse String\n",
    "user_input = input(\"Enter a string: \")\n",
    "reversed_string = user_input[::-1]\n",
    "print(\"Reversed string:\", reversed_string)\n"
   ]
  },
  {
   "cell_type": "code",
   "execution_count": 9,
   "id": "c538fa0e",
   "metadata": {},
   "outputs": [
    {
     "name": "stdout",
     "output_type": "stream",
     "text": [
      "Number of vowels: 3\n"
     ]
    }
   ],
   "source": [
    "#6.Count Vowels\n",
    "\n",
    "text = input(\"Enter a string: \")\n",
    "\n",
    "vowels = \"aeiouAEIOU\"\n",
    "\n",
    "vowel_count = 0\n",
    "for char in text:\n",
    "    if char in vowels:\n",
    "        vowel_count += 1\n",
    "print(\"Number of vowels:\", vowel_count)\n"
   ]
  },
  {
   "cell_type": "code",
   "execution_count": 11,
   "id": "4681c2a7",
   "metadata": {},
   "outputs": [
    {
     "name": "stdout",
     "output_type": "stream",
     "text": [
      "Maximum value: 21.0\n"
     ]
    }
   ],
   "source": [
    "#7.Find Maximum Value\n",
    "numbers_input = input(\"Enter numbers separated by spaces: \")\n",
    "numbers = list(map(float, numbers_input.split()))\n",
    "if numbers:\n",
    "    max_value = max(numbers)\n",
    "    print(\"Maximum value:\", max_value)\n",
    "else:\n",
    "    print(\"No numbers were entered.\")\n"
   ]
  },
  {
   "cell_type": "code",
   "execution_count": 12,
   "id": "ef7f6740",
   "metadata": {},
   "outputs": [
    {
     "name": "stdout",
     "output_type": "stream",
     "text": [
      "'racecar' is a palindrome.\n"
     ]
    }
   ],
   "source": [
    "#8.Check Palindrome\n",
    "word = input(\"Enter a word: \")\n",
    "word_cleaned = word.lower()\n",
    "\n",
    "if word_cleaned == word_cleaned[::-1]:\n",
    "    print(f\"'{word}' is a palindrome.\")\n",
    "else:\n",
    "    print(f\"'{word}' is not a palindrome.\")\n"
   ]
  },
  {
   "cell_type": "code",
   "execution_count": 13,
   "id": "da79e1ba",
   "metadata": {},
   "outputs": [
    {
     "name": "stdout",
     "output_type": "stream",
     "text": [
      "Email domain: example.com\n"
     ]
    }
   ],
   "source": [
    "#9.Extract Email Domain\n",
    "email = input(\"Enter your email address: \")\n",
    "if \"@\" in email:\n",
    "    domain = email.split(\"@\")[1]\n",
    "    print(\"Email domain:\", domain)\n",
    "else:\n",
    "    print(\"Invalid email address. Please include '@'.\")\n"
   ]
  },
  {
   "cell_type": "code",
   "execution_count": 14,
   "id": "09f8c07b",
   "metadata": {},
   "outputs": [
    {
     "name": "stdout",
     "output_type": "stream",
     "text": [
      "Generated password: _xjBKYf0Snxs\n"
     ]
    }
   ],
   "source": [
    "#10.Generate Random Password\n",
    "\n",
    "import random\n",
    "import string\n",
    "password_length = int(input(\"Enter the desired password length: \"))\n",
    "letters = string.ascii_letters      # a-z, A-Z\n",
    "digits = string.digits              # 0-9\n",
    "special_chars = string.punctuation  # !@#$%^&*() etc.\n",
    "all_chars = letters + digits + special_chars\n",
    "password = ''.join(random.choice(all_chars) for _ in range(password_length))\n",
    "print(\"Generated password:\", password)\n"
   ]
  },
  {
   "cell_type": "code",
   "execution_count": null,
   "id": "3d915fbb",
   "metadata": {},
   "outputs": [],
   "source": []
  },
  {
   "cell_type": "code",
   "execution_count": null,
   "id": "bfc991a4",
   "metadata": {},
   "outputs": [],
   "source": []
  }
 ],
 "metadata": {
  "kernelspec": {
   "display_name": "Python 3",
   "language": "python",
   "name": "python3"
  },
  "language_info": {
   "codemirror_mode": {
    "name": "ipython",
    "version": 3
   },
   "file_extension": ".py",
   "mimetype": "text/x-python",
   "name": "python",
   "nbconvert_exporter": "python",
   "pygments_lexer": "ipython3",
   "version": "3.12.9"
  }
 },
 "nbformat": 4,
 "nbformat_minor": 5
}
