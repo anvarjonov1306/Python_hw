{
 "cells": [
  {
   "cell_type": "code",
   "execution_count": null,
   "id": "9d0fe088",
   "metadata": {},
   "outputs": [],
   "source": [
    "#1.Homework:Exercise 1: Threaded Prime Number Checker\n",
    "# Write a Python program that checks whether a given range of numbers contains prime numbers. Divide the range among multiple threads to parallelize the prime checking process. Each thread should be responsible for checking a subset of the range, and the main program should print the list of prime numbers found."
   ]
  },
  {
   "cell_type": "code",
   "execution_count": 1,
   "metadata": {},
   "outputs": [
    {
     "name": "stdout",
     "output_type": "stream",
     "text": [
      "Prime numbers between 1 and 100:\n",
      "[2, 3, 5, 7, 11, 13, 17, 19, 23, 29, 31, 37, 41, 43, 47, 53, 59, 61, 67, 71, 73, 79, 83, 89, 97]\n"
     ]
    }
   ],
   "source": [
    "import threading\n",
    "def is_prime(n):\n",
    "    if n < 2:\n",
    "        return False\n",
    "    for i in range(2, int(n**0.5) + 1):\n",
    "        if n % i == 0:\n",
    "            return False\n",
    "    return True\n",
    "def check_primes_in_range(start, end, result_list):\n",
    "    for num in range(start, end):\n",
    "        if is_prime(num):\n",
    "            result_list.append(num)\n",
    "def threaded_prime_checker(start, end, num_threads):\n",
    "    threads = []\n",
    "    results = [[] for _ in range(num_threads)]  \n",
    "    range_size = (end - start) // num_threads\n",
    "\n",
    "    for i in range(num_threads):\n",
    "        range_start = start + i * range_size\n",
    "        range_end = start + (i + 1) * range_size if i != num_threads - 1 else end\n",
    "        thread = threading.Thread(target=check_primes_in_range, args=(range_start, range_end, results[i]))\n",
    "        threads.append(thread)\n",
    "        thread.start()\n",
    "\n",
    "    for thread in threads:\n",
    "        thread.join()\n",
    "\n",
    "    all_primes = [prime for sublist in results for prime in sublist]\n",
    "    all_primes.sort()\n",
    "    print(f\"Prime numbers between {start} and {end}:\")\n",
    "    print(all_primes)\n",
    "\n",
    "if __name__ == \"__main__\":\n",
    "    threaded_prime_checker(1, 100, 4)  \n"
   ]
  },
  {
   "cell_type": "code",
   "execution_count": null,
   "id": "a3996bdb",
   "metadata": {},
   "outputs": [],
   "source": [
    "#2.Threaded File Processing.\n",
    "# Write a program that reads a large text file containing lines of text. Implement a threaded solution to count the occurrence of each word in the file. Each thread should process a portion of the file, and the main program should display a summary of word occurrences across all threads."
   ]
  },
  {
   "cell_type": "code",
   "execution_count": 3,
   "id": "aa368fa9",
   "metadata": {},
   "outputs": [],
   "source": [
    "with open('large_text_file.txt', 'w', encoding='utf-8') as f:\n",
    "    f.write(\"This is a sample text file.\\nIt contains multiple lines.\\nEach line has words.\\nWords are counted.\\n\")\n"
   ]
  },
  {
   "cell_type": "code",
   "execution_count": 4,
   "id": "3c1a03c7",
   "metadata": {},
   "outputs": [
    {
     "name": "stdout",
     "output_type": "stream",
     "text": [
      "Word Occurrence Summary:\n",
      "This: 1\n",
      "is: 1\n",
      "a: 1\n",
      "sample: 1\n",
      "text: 1\n",
      "file.: 1\n",
      "It: 1\n",
      "contains: 1\n",
      "multiple: 1\n",
      "lines.: 1\n",
      "Each: 1\n",
      "line: 1\n",
      "has: 1\n",
      "words.: 1\n",
      "Words: 1\n",
      "are: 1\n",
      "counted.: 1\n"
     ]
    }
   ],
   "source": [
    "import threading\n",
    "from collections import Counter\n",
    "import os\n",
    "def count_words(lines, result_list, index):\n",
    "    word_count = Counter()\n",
    "    for line in lines:\n",
    "        words = line.strip().split()\n",
    "        word_count.update(words)\n",
    "    result_list[index] = word_count\n",
    "def threaded_word_count(file_path, num_threads=4):\n",
    "    with open(file_path, 'r', encoding='utf-8') as f:\n",
    "        lines = f.readlines()\n",
    "    total_lines = len(lines)\n",
    "    chunk_size = total_lines // num_threads\n",
    "    threads = []\n",
    "    results = [None] * num_threads\n",
    "    for i in range(num_threads):\n",
    "        start = i * chunk_size\n",
    "        end = (i + 1) * chunk_size if i != num_threads - 1 else total_lines\n",
    "        thread = threading.Thread(target=count_words, args=(lines[start:end], results, i))\n",
    "        threads.append(thread)\n",
    "        thread.start()\n",
    "    for thread in threads:\n",
    "        thread.join()\n",
    "    final_count = Counter()\n",
    "    for partial_count in results:\n",
    "        final_count.update(partial_count)\n",
    "    print(\"Word Occurrence Summary:\")\n",
    "    for word, count in final_count.most_common():\n",
    "        print(f\"{word}: {count}\")\n",
    "if __name__ == \"__main__\":\n",
    "    threaded_word_count('large_text_file.txt', num_threads=4)\n"
   ]
  },
  {
   "cell_type": "code",
   "execution_count": null,
   "id": "9b845d35",
   "metadata": {},
   "outputs": [],
   "source": []
  },
  {
   "cell_type": "code",
   "execution_count": null,
   "id": "39e8e1cf",
   "metadata": {},
   "outputs": [],
   "source": []
  },
  {
   "cell_type": "code",
   "execution_count": null,
   "id": "4193f5b3",
   "metadata": {},
   "outputs": [],
   "source": []
  }
 ],
 "metadata": {
  "kernelspec": {
   "display_name": "Python 3",
   "language": "python",
   "name": "python3"
  },
  "language_info": {
   "codemirror_mode": {
    "name": "ipython",
    "version": 3
   },
   "file_extension": ".py",
   "mimetype": "text/x-python",
   "name": "python",
   "nbconvert_exporter": "python",
   "pygments_lexer": "ipython3",
   "version": "3.12.9"
  }
 },
 "nbformat": 4,
 "nbformat_minor": 5
}
