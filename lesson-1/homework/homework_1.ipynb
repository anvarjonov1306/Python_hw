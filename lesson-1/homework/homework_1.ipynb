{
 "cells": [
  {
   "cell_type": "code",
   "execution_count": 2,
   "id": "8bb536d1",
   "metadata": {},
   "outputs": [
    {
     "name": "stdout",
     "output_type": "stream",
     "text": [
      "The perimeter of the square is: 20.0\n",
      "The area of the square is: 25.0\n"
     ]
    }
   ],
   "source": [
    "#1. Given a side of square. Find its perimeter and area.\n",
    "import math\n",
    "\n",
    "\n",
    "side = float(input(\"Enter the side length of the square: \"))\n",
    "perimeter = 4 * side\n",
    "area = side ** 2\n",
    "print(f\"The perimeter of the square is: {perimeter}\")\n",
    "print(f\"The area of the square is: {area}\")"
   ]
  },
  {
   "cell_type": "code",
   "execution_count": 3,
   "id": "6fc348d0",
   "metadata": {},
   "outputs": [
    {
     "name": "stdout",
     "output_type": "stream",
     "text": [
      "The circumference of the circle is: 31.42\n"
     ]
    }
   ],
   "source": [
    "#2. Given diameter of circle. Find its length.\n",
    "\n",
    "diameter = float(input(\"Enter the diameter of the circle: \"))\n",
    "\n",
    "circumference = math.pi * diameter\n",
    "\n",
    "print(f\"The circumference of the circle is: {circumference:.2f}\")"
   ]
  },
  {
   "cell_type": "code",
   "execution_count": 5,
   "id": "babdc028",
   "metadata": {},
   "outputs": [
    {
     "name": "stdout",
     "output_type": "stream",
     "text": [
      "Given numbers:\n",
      "a = 12\n",
      "b = 18\n",
      "The mean of 12 and 18 is: 15.0\n"
     ]
    }
   ],
   "source": [
    "#3.Given two numbers a and b. Find their mean.\n",
    "\n",
    "a = 12\n",
    "b = 18\n",
    "\n",
    "mean = (a + b) / 2\n",
    "\n",
    "print(\"Given numbers:\")\n",
    "print(f\"a = {a}\")\n",
    "print(f\"b = {b}\")\n",
    "print(f\"The mean of {a} and {b} is: {mean}\")\n"
   ]
  },
  {
   "cell_type": "code",
   "execution_count": 6,
   "id": "84c8e704",
   "metadata": {},
   "outputs": [
    {
     "name": "stdout",
     "output_type": "stream",
     "text": [
      "Given numbers:\n",
      "a = 7\n",
      "b = 4\n",
      "\n",
      "Sum of a and b: 11\n",
      "Product of a and b: 28\n",
      "Square of a: 49\n",
      "Square of b: 16\n"
     ]
    }
   ],
   "source": [
    "##4.Given two numbers a and b. Find their sum, product and square of each number.\n",
    "\n",
    "a = 7\n",
    "b = 4\n",
    "\n",
    "\n",
    "sum_ab = a + b\n",
    "product_ab = a * b\n",
    "square_a = a ** 2\n",
    "square_b = b ** 2\n",
    "\n",
    "print(\"Given numbers:\")\n",
    "print(f\"a = {a}\")\n",
    "print(f\"b = {b}\\n\")\n",
    "\n",
    "print(f\"Sum of a and b: {sum_ab}\")\n",
    "print(f\"Product of a and b: {product_ab}\")\n",
    "print(f\"Square of a: {square_a}\")\n",
    "print(f\"Square of b: {square_b}\")\n"
   ]
  },
  {
   "cell_type": "code",
   "execution_count": null,
   "id": "95b6a721",
   "metadata": {},
   "outputs": [],
   "source": []
  },
  {
   "cell_type": "code",
   "execution_count": null,
   "id": "8f587b2d",
   "metadata": {},
   "outputs": [],
   "source": []
  },
  {
   "cell_type": "code",
   "execution_count": null,
   "id": "9d41b5c5",
   "metadata": {},
   "outputs": [],
   "source": []
  },
  {
   "cell_type": "code",
   "execution_count": null,
   "id": "d49b76dd",
   "metadata": {},
   "outputs": [],
   "source": []
  }
 ],
 "metadata": {
  "kernelspec": {
   "display_name": "Python 3",
   "language": "python",
   "name": "python3"
  },
  "language_info": {
   "codemirror_mode": {
    "name": "ipython",
    "version": 3
   },
   "file_extension": ".py",
   "mimetype": "text/x-python",
   "name": "python",
   "nbconvert_exporter": "python",
   "pygments_lexer": "ipython3",
   "version": "3.12.9"
  }
 },
 "nbformat": 4,
 "nbformat_minor": 5
}
