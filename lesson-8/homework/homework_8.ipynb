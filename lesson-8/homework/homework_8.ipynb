{
 "cells": [
  {
   "cell_type": "code",
   "execution_count": 2,
   "id": "2290dec7",
   "metadata": {},
   "outputs": [
    {
     "name": "stdout",
     "output_type": "stream",
     "text": [
      "Error: Cannot divide by zero.\n",
      "Execution completed.\n"
     ]
    }
   ],
   "source": [
    "#1.Write a Python program to handle a ZeroDivisionError exception when dividing a number by zero.\n",
    "\n",
    "try:\n",
    "    numerator = float(input(\"Enter the numerator: \"))\n",
    "    denominator = float(input(\"Enter the denominator: \"))\n",
    "    \n",
    "    result = numerator / denominator\n",
    "    print(f\"Result: {result}\")\n",
    "\n",
    "except ZeroDivisionError:\n",
    "    print(\"Error: Cannot divide by zero.\")\n",
    "\n",
    "except ValueError:\n",
    "    print(\"Error: Please enter numeric values only.\")\n",
    "\n",
    "finally:\n",
    "    print(\"Execution completed.\")\n"
   ]
  },
  {
   "cell_type": "code",
   "execution_count": 4,
   "id": "3eebe5cb",
   "metadata": {},
   "outputs": [
    {
     "name": "stdout",
     "output_type": "stream",
     "text": [
      "Error: Invalid input: not a valid integer.\n"
     ]
    }
   ],
   "source": [
    "#2.Write a Python program that prompts the user to input an integer and raises a ValueError exception if the input is not a valid integer.\n",
    "\n",
    "def get_integer_input():\n",
    "    user_input = input(\"Enter an integer: \")\n",
    "    \n",
    "    if not user_input.lstrip('-').isdigit():\n",
    "        raise ValueError(\"Invalid input: not a valid integer.\")\n",
    "    \n",
    "    return int(user_input)\n",
    "try:\n",
    "    number = get_integer_input()\n",
    "    print(f\"You entered the integer: {number}\")\n",
    "\n",
    "except ValueError as ve:\n",
    "    print(f\"Error: {ve}\")\n"
   ]
  },
  {
   "cell_type": "code",
   "execution_count": 5,
   "id": "a51badac",
   "metadata": {},
   "outputs": [
    {
     "name": "stdout",
     "output_type": "stream",
     "text": [
      "Error: The file 'r' does not exist.\n"
     ]
    }
   ],
   "source": [
    "#3.Write a Python program that opens a file and handles a FileNotFoundError exception if the file does not exist.\n",
    "def read_file(filename):\n",
    "    try:\n",
    "        with open(filename, 'r') as file:\n",
    "            content = file.read()\n",
    "            print(\"File content:\\n\")\n",
    "            print(content)\n",
    "    except FileNotFoundError:\n",
    "        print(f\"Error: The file '{filename}' does not exist.\")\n",
    "    except Exception as e:\n",
    "        print(f\"An unexpected error occurred: {e}\")\n",
    "\n",
    "file_name = input(\"Enter the name of the file to open: \")\n",
    "read_file(file_name)\n"
   ]
  },
  {
   "cell_type": "code",
   "execution_count": 8,
   "id": "62ee8935",
   "metadata": {},
   "outputs": [
    {
     "name": "stdout",
     "output_type": "stream",
     "text": [
      "Error: Invalid input: expected a numerical value.\n"
     ]
    }
   ],
   "source": [
    "#4.Write a Python program that prompts the user to input two numbers and raises a TypeError exception if the inputs are not numerical.\n",
    "\n",
    "def get_number_input(prompt):\n",
    "    user_input = input(prompt)\n",
    "    try:\n",
    "        return float(user_input) \n",
    "    except ValueError:\n",
    "        raise TypeError(\"Invalid input: expected a numerical value.\")\n",
    "try:\n",
    "    num1 = get_number_input(\"Enter the first number: \")\n",
    "    num2 = get_number_input(\"Enter the second number: \")\n",
    "\n",
    "    print(f\"You entered: {num1} and {num2}\")\n",
    "    print(f\"Sum: {num1 + num2}\")\n",
    "\n",
    "except TypeError as te:\n",
    "    print(f\"Error: {te}\")\n"
   ]
  },
  {
   "cell_type": "code",
   "execution_count": 10,
   "id": "7872818d",
   "metadata": {},
   "outputs": [
    {
     "name": "stdout",
     "output_type": "stream",
     "text": [
      "Error: The file 'permissonerrror' was not found.\n"
     ]
    }
   ],
   "source": [
    "#5.Write a Python program that opens a file and handles a PermissionError exception if there is a permission issue.\n",
    "def open_file(filename):\n",
    "    try:\n",
    "        with open(filename, 'r') as file:\n",
    "            content = file.read()\n",
    "            print(\"File content:\\n\")\n",
    "            print(content)\n",
    "    except PermissionError:\n",
    "        print(f\"Error: Permission denied when trying to open '{filename}'.\")\n",
    "    except FileNotFoundError:\n",
    "        print(f\"Error: The file '{filename}' was not found.\")\n",
    "    except Exception as e:\n",
    "        print(f\"An unexpected error occurred: {e}\")\n",
    "file_name = input(\"Enter the name of the file to open: \")\n",
    "open_file(file_name)\n"
   ]
  },
  {
   "cell_type": "code",
   "execution_count": 13,
   "id": "fb2d8582",
   "metadata": {},
   "outputs": [
    {
     "name": "stdout",
     "output_type": "stream",
     "text": [
      "Sample List: [10, 20, 30, 40, 50]\n",
      "Error: Index 5 is out of range for the list.\n"
     ]
    }
   ],
   "source": [
    "#6.Write a Python program that executes an operation on a list and handles an IndexError exception if the index is out of range.\n",
    "\n",
    "def access_list_element(my_list, index):\n",
    "    try:\n",
    "        element = my_list[index]\n",
    "        print(f\"Element at index {index}: {element}\")\n",
    "    except IndexError:\n",
    "        print(f\"Error: Index {index} is out of range for the list.\")\n",
    "    except Exception as e:\n",
    "        print(f\"An unexpected error occurred: {e}\")\n",
    "\n",
    "sample_list = [10, 20, 30, 40, 50]\n",
    "\n",
    "print(\"Sample List:\", sample_list)\n",
    "\n",
    "try:\n",
    "    user_index = int(input(\"Enter the index of the element you want to access: \"))\n",
    "    access_list_element(sample_list, user_index)\n",
    "except ValueError:\n",
    "    print(\"Error: Please enter a valid integer index.\")\n"
   ]
  },
  {
   "cell_type": "code",
   "execution_count": 20,
   "id": "21fcb6cb",
   "metadata": {},
   "outputs": [
    {
     "name": "stdout",
     "output_type": "stream",
     "text": [
      "\n",
      "Input cancelled by user (KeyboardInterrupt).\n"
     ]
    }
   ],
   "source": [
    "#7.Write a Python program that prompts the user to input a number and handles a KeyboardInterrupt exception if the user cancels the input.\n",
    "\n",
    "def get_user_number():\n",
    "    try:\n",
    "        number = float(input(\"Enter a number: \"))\n",
    "        print(f\"You entered: {number}\")\n",
    "    except KeyboardInterrupt:\n",
    "        print(\"\\nInput cancelled by user (KeyboardInterrupt).\")\n",
    "    except ValueError:\n",
    "        print(\"Error: Invalid input. Please enter a numerical value.\")\n",
    "    except Exception as e:\n",
    "        print(f\"An unexpected error occurred: {e}\")\n",
    "\n",
    "get_user_number()\n"
   ]
  },
  {
   "cell_type": "code",
   "execution_count": 21,
   "id": "10cde3ac",
   "metadata": {},
   "outputs": [
    {
     "name": "stdout",
     "output_type": "stream",
     "text": [
      "Arithmetic error occurred: float division by zero\n",
      "Division operation completed.\n"
     ]
    }
   ],
   "source": [
    "#8.Write a Python program that executes division and handles an ArithmeticError exception if there is an arithmetic error.\n",
    "\n",
    "def perform_division():\n",
    "    try:\n",
    "        numerator = float(input(\"Enter the numerator: \"))\n",
    "        denominator = float(input(\"Enter the denominator: \"))\n",
    "        result = numerator / denominator\n",
    "        print(f\"Result: {result}\")\n",
    "    except ArithmeticError as e:\n",
    "        print(f\"Arithmetic error occurred: {e}\")\n",
    "    except ValueError:\n",
    "        print(\"Error: Please enter valid numeric values.\")\n",
    "    finally:\n",
    "        print(\"Division operation completed.\")\n",
    "\n",
    "\n",
    "perform_division()\n"
   ]
  },
  {
   "cell_type": "code",
   "execution_count": null,
   "id": "428013a2",
   "metadata": {},
   "outputs": [
    {
     "ename": "NameError",
     "evalue": "name 'sqlll' is not defined",
     "output_type": "error",
     "traceback": [
      "\u001b[31m---------------------------------------------------------------------------\u001b[39m",
      "\u001b[31mNameError\u001b[39m                                 Traceback (most recent call last)",
      "\u001b[36mCell\u001b[39m\u001b[36m \u001b[39m\u001b[32mIn[5]\u001b[39m\u001b[32m, line 17\u001b[39m\n\u001b[32m     14\u001b[39m         \u001b[38;5;28mprint\u001b[39m(\u001b[33mf\u001b[39m\u001b[33m\"\u001b[39m\u001b[33mAn unexpected error occurred: \u001b[39m\u001b[38;5;132;01m{\u001b[39;00me\u001b[38;5;132;01m}\u001b[39;00m\u001b[33m\"\u001b[39m)\n\u001b[32m     16\u001b[39m file_name = \u001b[38;5;28minput\u001b[39m(\u001b[33m\"\u001b[39m\u001b[33mEnter the filename to open: \u001b[39m\u001b[33m\"\u001b[39m)\n\u001b[32m---> \u001b[39m\u001b[32m17\u001b[39m read_file_with_encoding_check(\u001b[43msqlll\u001b[49m)\n",
      "\u001b[31mNameError\u001b[39m: name 'sqlll' is not defined"
     ]
    }
   ],
   "source": [
    "#9.Write a Python program that opens a file and handles a UnicodeDecodeError exception if there is an encoding issue.\n",
    "\n",
    "def read_file_with_encoding_check(filename):\n",
    "    try:\n",
    "        with open(filename, 'r', encoding='utf-8') as file:\n",
    "            content = file.read()\n",
    "            print(\"File content:\\n\")\n",
    "            print(content)\n",
    "    except UnicodeDecodeError:\n",
    "        print(f\"Error: Cannot decode the file '{filename}'. The file encoding may not be UTF-8.\")\n",
    "    except FileNotFoundError:\n",
    "        print(f\"Error: The file '{filename}' does not exist.\")\n",
    "    except Exception as e:\n",
    "        print(f\"An unexpected error occurred: {e}\")\n",
    "\n",
    "file_name = input(\"Enter the filename to open: \")\n",
    "read_file_with_encoding_check(file_name)\n",
    "\n"
   ]
  },
  {
   "cell_type": "code",
   "execution_count": 6,
   "id": "5d7f60ce",
   "metadata": {},
   "outputs": [
    {
     "name": "stdout",
     "output_type": "stream",
     "text": [
      "AttributeError caught!\n",
      "Error: 'list' object has no attribute 'push'\n",
      "Appending 6 to the list using correct method...\n",
      "Updated list: [1, 2, 3, 4, 5, 6]\n"
     ]
    }
   ],
   "source": [
    "#10.Write a Python program that executes a list operation and handles an AttributeError exception if the attribute does not exist.\n",
    "\n",
    "def list_operation():\n",
    "    my_list = [1, 2, 3, 4, 5]\n",
    "\n",
    "    try:\n",
    "        my_list.push(6)\n",
    "    except AttributeError as e:\n",
    "        print(\"AttributeError caught!\")\n",
    "        print(f\"Error: {e}\")\n",
    "    print(\"Appending 6 to the list using correct method...\")\n",
    "    my_list.append(6)\n",
    "    print(\"Updated list:\", my_list)\n",
    "\n",
    "if __name__ == \"__main__\":\n",
    "    list_operation()\n"
   ]
  },
  {
   "cell_type": "code",
   "execution_count": 25,
   "id": "674c8955",
   "metadata": {},
   "outputs": [
    {
     "name": "stdout",
     "output_type": "stream",
     "text": [
      "Error: The file 'SQL' was not found.\n"
     ]
    }
   ],
   "source": [
    "#2.1.Write a Python program to read an entire text file.\n",
    "\n",
    "def read_text_file(file_path):\n",
    "    try:\n",
    "        with open(file_path, 'r') as file:\n",
    "            content = file.read()\n",
    "            print(\"File contents:\\n\")\n",
    "            print(content)\n",
    "    except FileNotFoundError:\n",
    "        print(f\"Error: The file '{file_path}' was not found.\")\n",
    "    except IOError as e:\n",
    "        print(f\"An I/O error occurred: {e}\")\n",
    "\n",
    "if __name__ == \"__main__\":\n",
    "    read_text_file('SQL')\n",
    "\n"
   ]
  },
  {
   "cell_type": "code",
   "execution_count": 33,
   "id": "bc63e970",
   "metadata": {},
   "outputs": [],
   "source": [
    "file_h=open('homework_1')"
   ]
  },
  {
   "cell_type": "code",
   "execution_count": null,
   "id": "e3c670aa",
   "metadata": {},
   "outputs": [
    {
     "name": "stdout",
     "output_type": "stream",
     "text": [
      "First 5 lines of 'homework_1.txt':\n",
      "\n",
      "#1. Given a side of square. Find its perimeter and area.\n",
      "import math\n",
      "\n",
      "\n",
      "side = float(input(\"Enter the side length of the square: \"))\n"
     ]
    }
   ],
   "source": [
    "#2.2.Write a Python program to read first n lines of a file.\n",
    "def read_first_n_lines(homework_1, n):\n",
    "    try:\n",
    "        with open('homework_1', 'r') as file:\n",
    "            print(f\"First {n} lines of '{homework_1}':\\n\")\n",
    "            for i in range(n):\n",
    "                line = file.readline()\n",
    "                if line == '':\n",
    "                    print(f\"(End of file reached at line {i+1})\")\n",
    "                    break\n",
    "                print(line.strip())\n",
    "    except FileNotFoundError:\n",
    "        print(f\"Error: File '{homework_1}' not found.\")\n",
    "    except IOError as e:\n",
    "        print(f\"I/O error occurred: {e}\")\n",
    "\n",
    "\n",
    "read_first_n_lines('homework_1.txt', 5)\n"
   ]
  },
  {
   "cell_type": "code",
   "execution_count": null,
   "id": "ad0678f4",
   "metadata": {},
   "outputs": [
    {
     "name": "stdout",
     "output_type": "stream",
     "text": [
      "Text successfully appended to 'example.txt'.\n",
      "\n",
      "Contents of 'example.txt':\n",
      "\n",
      "This is the new line being appended.\n",
      "\n"
     ]
    }
   ],
   "source": [
    "#2.3.Write a Python program to append text to a file and display the text.\n",
    "def append_and_display(filename, text_to_append):\n",
    "    try:\n",
    "      \n",
    "        with open(filename, 'a') as file:\n",
    "            file.write(text_to_append + '\\n')\n",
    "        print(f\"Text successfully appended to '{filename}'.\\n\")\n",
    "        print(f\"Contents of '{filename}':\\n\")\n",
    "        with open(filename, 'r') as file:\n",
    "            content = file.read()\n",
    "            print(content)\n",
    "\n",
    "    except IOError as e:\n",
    "        print(f\"An I/O error occurred: {e}\")\n",
    "append_and_display('example.txt', 'This is the new line being appended.')\n"
   ]
  },
  {
   "cell_type": "code",
   "execution_count": 38,
   "id": "6958ceda",
   "metadata": {},
   "outputs": [
    {
     "name": "stdout",
     "output_type": "stream",
     "text": [
      "Last 5 lines of 'example.txt':\n",
      "\n",
      "This is the new line being appended.\n"
     ]
    }
   ],
   "source": [
    "#2.4.Write a Python program to read last n lines of a file.\n",
    "\n",
    "def read_last_n_lines(filename, n):\n",
    "    try:\n",
    "        with open(filename, 'r') as file:\n",
    "            lines = file.readlines()  # Read all lines into a list\n",
    "            last_lines = lines[-n:]    # Slice the last n lines\n",
    "            print(f\"Last {n} lines of '{filename}':\\n\")\n",
    "            for line in last_lines:\n",
    "                print(line.strip())\n",
    "    except FileNotFoundError:\n",
    "        print(f\"Error: File '{filename}' not found.\")\n",
    "    except IOError as e:\n",
    "        print(f\"I/O error occurred: {e}\")\n",
    "\n",
    "read_last_n_lines('example.txt', 5)\n"
   ]
  },
  {
   "cell_type": "code",
   "execution_count": 39,
   "id": "dc49c5dd",
   "metadata": {},
   "outputs": [
    {
     "name": "stdout",
     "output_type": "stream",
     "text": [
      "Lines in the file:\n",
      "1: This is the new line being appended.\n"
     ]
    }
   ],
   "source": [
    "#2.5.Write a Python program to read a file line by line and store it into a list.\n",
    "def read_file_to_list(filename):\n",
    "    lines = []\n",
    "    try:\n",
    "        with open(filename, 'r') as file:\n",
    "            for line in file:\n",
    "                lines.append(line.rstrip('\\n'))  \n",
    "    except FileNotFoundError:\n",
    "        print(f\"Error: File '{filename}' not found.\")\n",
    "    except IOError as e:\n",
    "        print(f\"I/O error occurred: {e}\")\n",
    "    return lines\n",
    "\n",
    "file_lines = read_file_to_list('example.txt')\n",
    "\n",
    "print(\"Lines in the file:\")\n",
    "for i, line in enumerate(file_lines, 1):\n",
    "    print(f\"{i}: {line}\")\n"
   ]
  },
  {
   "cell_type": "code",
   "execution_count": 40,
   "id": "6c27b34f",
   "metadata": {},
   "outputs": [
    {
     "name": "stdout",
     "output_type": "stream",
     "text": [
      "File content:\n",
      "\n",
      "This is the new line being appended.\n",
      "\n"
     ]
    }
   ],
   "source": [
    "#2.6.Write a Python program to read a file line by line and store it into a variable.\n",
    "def read_file_as_string(filename):\n",
    "    try:\n",
    "        with open(filename, 'r') as file:\n",
    "            content = file.read() \n",
    "        return content\n",
    "    except FileNotFoundError:\n",
    "        print(f\"Error: File '{filename}' not found.\")\n",
    "    except IOError as e:\n",
    "        print(f\"I/O error occurred: {e}\")\n",
    "        return None\n",
    "\n",
    "file_content = read_file_as_string('example.txt')\n",
    "print(\"File content:\\n\")\n",
    "print(file_content)\n"
   ]
  },
  {
   "cell_type": "code",
   "execution_count": 41,
   "id": "25473f65",
   "metadata": {},
   "outputs": [
    {
     "name": "stdout",
     "output_type": "stream",
     "text": [
      "Lines stored in the array:\n",
      "['This is the new line being appended.']\n"
     ]
    }
   ],
   "source": [
    "#2.7.Write a Python program to read a file line by line and store it into an array.\n",
    "def read_file_to_array(filename):\n",
    "    lines = []\n",
    "    try:\n",
    "        with open(filename, 'r') as file:\n",
    "            for line in file:\n",
    "                lines.append(line.rstrip('\\n'))  \n",
    "    except FileNotFoundError:\n",
    "        print(f\"Error: File '{filename}' not found.\")\n",
    "    except IOError as e:\n",
    "        print(f\"I/O error occurred: {e}\")\n",
    "    return lines\n",
    "\n",
    "file_lines = read_file_to_array('example.txt')\n",
    "print(\"Lines stored in the array:\")\n",
    "print(file_lines)\n"
   ]
  },
  {
   "cell_type": "code",
   "execution_count": 42,
   "id": "7e26e6d3",
   "metadata": {},
   "outputs": [
    {
     "name": "stdout",
     "output_type": "stream",
     "text": [
      "Longest word length: 9\n",
      "Longest word(s):\n",
      "appended.\n"
     ]
    }
   ],
   "source": [
    "#2.8.Write a Python program to find the longest words.\n",
    "def find_longest_words(filename):\n",
    "    try:\n",
    "        with open(filename, 'r') as file:\n",
    "            text = file.read()\n",
    "        words = text.split()\n",
    "\n",
    "        if not words:\n",
    "            print(\"The file is empty or contains no words.\")\n",
    "            return\n",
    "        max_len = max(len(word) for word in words)\n",
    "        longest_words = [word for word in words if len(word) == max_len]\n",
    "\n",
    "        print(f\"Longest word length: {max_len}\")\n",
    "        print(\"Longest word(s):\")\n",
    "        for word in set(longest_words):  \n",
    "            print(word)\n",
    "\n",
    "    except FileNotFoundError:\n",
    "        print(f\"Error: File '{filename}' not found.\")\n",
    "    except IOError as e:\n",
    "        print(f\"I/O error occurred: {e}\")\n",
    "\n",
    "\n",
    "find_longest_words('example.txt')\n"
   ]
  },
  {
   "cell_type": "code",
   "execution_count": 43,
   "id": "f3d44412",
   "metadata": {},
   "outputs": [
    {
     "name": "stdout",
     "output_type": "stream",
     "text": [
      "The file 'example.txt' has 1 lines.\n"
     ]
    }
   ],
   "source": [
    "#2.9.Write a Python program to count the number of lines in a text file.\n",
    "def count_lines(filename):\n",
    "    try:\n",
    "        with open(filename, 'r') as file:\n",
    "            line_count = sum(1 for _ in file)\n",
    "        print(f\"The file '{filename}' has {line_count} lines.\")\n",
    "    except FileNotFoundError:\n",
    "        print(f\"Error: File '{filename}' not found.\")\n",
    "    except IOError as e:\n",
    "        print(f\"I/O error occurred: {e}\")\n",
    "\n",
    "count_lines('example.txt')\n"
   ]
  },
  {
   "cell_type": "code",
   "execution_count": 44,
   "id": "ca008616",
   "metadata": {},
   "outputs": [
    {
     "name": "stdout",
     "output_type": "stream",
     "text": [
      "Word frequencies:\n",
      "\n",
      "this: 1\n",
      "is: 1\n",
      "the: 1\n",
      "new: 1\n",
      "line: 1\n",
      "being: 1\n",
      "appended: 1\n"
     ]
    }
   ],
   "source": [
    "#2.10.Write a Python program to count the frequency of words in a file.\n",
    "from collections import Counter\n",
    "import re\n",
    "\n",
    "def count_word_frequency(filename):\n",
    "    try:\n",
    "        with open(filename, 'r') as file:\n",
    "            text = file.read().lower() \n",
    "\n",
    "        words = re.findall(r'\\b\\w+\\b', text)\n",
    "\n",
    "        word_counts = Counter(words)\n",
    "        print(\"Word frequencies:\\n\")\n",
    "        for word, count in word_counts.most_common():\n",
    "            print(f\"{word}: {count}\")\n",
    "\n",
    "    except FileNotFoundError:\n",
    "        print(f\"Error: File '{filename}' not found.\")\n",
    "    except IOError as e:\n",
    "        print(f\"I/O error occurred: {e}\")\n",
    "\n",
    "count_word_frequency('example.txt')\n"
   ]
  },
  {
   "cell_type": "code",
   "execution_count": 45,
   "id": "dc334ae6",
   "metadata": {},
   "outputs": [
    {
     "name": "stdout",
     "output_type": "stream",
     "text": [
      "The size of 'example.txt' is 38 bytes.\n"
     ]
    }
   ],
   "source": [
    "#2.11.Write a Python program to get the file size of a plain file.\n",
    "import os\n",
    "\n",
    "def get_file_size(filename):\n",
    "    try:\n",
    "        size = os.path.getsize(filename)\n",
    "        print(f\"The size of '{filename}' is {size} bytes.\")\n",
    "    except FileNotFoundError:\n",
    "        print(f\"Error: File '{filename}' not found.\")\n",
    "    except OSError as e:\n",
    "        print(f\"OS error occurred: {e}\")\n",
    "\n",
    "get_file_size('example.txt')\n"
   ]
  },
  {
   "cell_type": "code",
   "execution_count": 46,
   "id": "f36efede",
   "metadata": {},
   "outputs": [
    {
     "name": "stdout",
     "output_type": "stream",
     "text": [
      "List successfully written to 'output.txt'.\n"
     ]
    }
   ],
   "source": [
    "#2.12.Write a Python program to write a list to a file.\n",
    "def write_list_to_file(filename, items):\n",
    "    try:\n",
    "        with open(filename, 'w') as file:\n",
    "            for item in items:\n",
    "                file.write(str(item) + '\\n')  \n",
    "        print(f\"List successfully written to '{filename}'.\")\n",
    "    except IOError as e:\n",
    "        print(f\"I/O error occurred: {e}\")\n",
    "\n",
    "my_list = ['apple', 'banana', 'cherry', 42, 3.14]\n",
    "write_list_to_file('output.txt', my_list)\n"
   ]
  },
  {
   "cell_type": "code",
   "execution_count": 60,
   "id": "e0436211",
   "metadata": {},
   "outputs": [],
   "source": [
    "#2.13.Write a Python program to copy the contents of a file to another file.\n",
    "with open('source.txt', 'w') as src:\n",
    "    src.write(\"This is the content of the source file.\\nIt has two lines.\\n\")\n",
    "with open('destination.txt', 'w') as dest:\n",
    "    pass  \n"
   ]
  },
  {
   "cell_type": "code",
   "execution_count": 58,
   "id": "1b922ba0",
   "metadata": {},
   "outputs": [
    {
     "name": "stdout",
     "output_type": "stream",
     "text": [
      "Contents copied from 'source.txt' to 'destination.txt' successfully.\n"
     ]
    }
   ],
   "source": [
    "#2.13.Write a Python program to copy the contents of a file to another file.\n",
    "def copy_file(source, destination):\n",
    "    try:\n",
    "        with open(source, 'r') as src_file:\n",
    "            content = src_file.read()\n",
    "\n",
    "        with open(destination, 'w') as dest_file:\n",
    "            dest_file.write(content)\n",
    "\n",
    "        print(f\"Contents copied from '{source}' to '{destination}' successfully.\")\n",
    "    except FileNotFoundError:\n",
    "        print(f\"Error: Source file '{source}' not found.\")\n",
    "    except IOError as e:\n",
    "        print(f\"I/O error occurred: {e}\")\n",
    "\n",
    "\n",
    "copy_file('source.txt', 'destination.txt')\n",
    "\n"
   ]
  },
  {
   "cell_type": "code",
   "execution_count": 62,
   "id": "b63171ee",
   "metadata": {},
   "outputs": [
    {
     "name": "stdout",
     "output_type": "stream",
     "text": [
      "Lines combined and saved to 'combined.txt'.\n",
      "Lines combined and saved to 'combined.txt'.\n"
     ]
    }
   ],
   "source": [
    "#2.14.Write a Python program to combine each line from the first file with the corresponding line in the second file.\n",
    "def create_example_files():\n",
    "    with open('file1.txt', 'w') as f1:\n",
    "        f1.write(\"Alice\\nBob\\nCharlie\\n\")\n",
    "    with open('file2.txt', 'w') as f2:\n",
    "        f2.write(\"Math\\nScience\\nHistory\\n\")\n",
    "\n",
    "def combine_files_line_by_line(file1, file2, output_file):\n",
    "    try:\n",
    "        with open(file1, 'r') as f1, open(file2, 'r') as f2, open(output_file, 'w') as out:\n",
    "            for line1, line2 in zip(f1, f2):\n",
    "                combined_line = line1.strip() + ' ' + line2.strip()\n",
    "                out.write(combined_line + '\\n')\n",
    "        print(f\"Lines combined and saved to '{output_file}'.\")\n",
    "    except FileNotFoundError as e:\n",
    "        print(f\"Error: {e.filename} not found.\")\n",
    "    except IOError as e:\n",
    "        print(f\"I/O error occurred: {e}\")\n",
    "\n",
    "create_example_files()\n",
    "\n",
    "combine_files_line_by_line('file1.txt', 'file2.txt', 'combined.txt')\n",
    "\n",
    "def combine_files_line_by_line(file1, file2, output_file):\n",
    "    try:\n",
    "        with open(file1, 'r') as f1, open(file2, 'r') as f2, open(output_file, 'w') as out:\n",
    "            for line1, line2 in zip(f1, f2):\n",
    "                combined_line = line1.strip() + ' ' + line2.strip()  \n",
    "                out.write(combined_line + '\\n')\n",
    "        print(f\"Lines combined and saved to '{output_file}'.\")\n",
    "    except FileNotFoundError as e:\n",
    "        print(f\"Error: {e.filename} not found.\")\n",
    "    except IOError as e:\n",
    "        print(f\"I/O error occurred: {e}\")\n",
    "\n",
    "combine_files_line_by_line('file1.txt', 'file2.txt', 'combined.txt')\n",
    "\n"
   ]
  },
  {
   "cell_type": "code",
   "execution_count": 63,
   "id": "f6d5b55e",
   "metadata": {},
   "outputs": [
    {
     "data": {
      "text/plain": [
       "<function __main__.read_random_line(filename)>"
      ]
     },
     "execution_count": 63,
     "metadata": {},
     "output_type": "execute_result"
    }
   ],
   "source": [
    "#2.15.Write a Python program to read a random line from a file.\n",
    "import random\n",
    "\n",
    "def read_random_line(filename):\n",
    "    try:\n",
    "        with open(filename, 'r') as file:\n",
    "            lines = file.readlines()\n",
    "        \n",
    "        if not lines:\n",
    "            print(f\"The file '{filename}' is empty.\")\n",
    "            return\n",
    "\n",
    "        random_line = random.choice(lines)\n",
    "        print(\"Random line from the file:\")\n",
    "        print(random_line.strip())\n",
    "        \n",
    "    except FileNotFoundError:\n",
    "        print(f\"Error: File '{filename}' not found.\")\n",
    "    except IOError as e:\n",
    "        print(f\"I/O error occurred: {e}\")\n",
    "read_random_line\n",
    "\n"
   ]
  },
  {
   "cell_type": "code",
   "execution_count": 64,
   "id": "9a533d46",
   "metadata": {},
   "outputs": [
    {
     "name": "stdout",
     "output_type": "stream",
     "text": [
      "Is the file closed? False\n",
      "Is the file closed after closing? True\n"
     ]
    }
   ],
   "source": [
    "#2.16.Write a Python program to assess if a file is closed or not.\n",
    "def check_file_closed(filename):\n",
    "    try:\n",
    "        file = open(filename, 'r')\n",
    "        print(f\"Is the file closed? {file.closed}\") \n",
    "        \n",
    "        file.close()\n",
    "        print(f\"Is the file closed after closing? {file.closed}\")  \n",
    "    except FileNotFoundError:\n",
    "        print(f\"Error: File '{filename}' not found.\")\n",
    "    except IOError as e:\n",
    "        print(f\"I/O error occurred: {e}\")\n",
    "\n",
    "\n",
    "check_file_closed('example.txt')\n"
   ]
  },
  {
   "cell_type": "code",
   "execution_count": 66,
   "id": "341506c4",
   "metadata": {},
   "outputs": [
    {
     "name": "stdout",
     "output_type": "stream",
     "text": [
      "Newlines removed and saved to 'output.txt'.\n"
     ]
    }
   ],
   "source": [
    "#2.17.Write a Python program to remove newline characters from a file.\n",
    "def create_input_file():\n",
    "    with open('input.txt', 'w') as f:\n",
    "        f.write(\"This is line one.\\n\")\n",
    "        f.write(\"This is line two.\\n\")\n",
    "        f.write(\"This is line three.\\n\")\n",
    "\n",
    "def remove_newlines(input_file, output_file):\n",
    "    try:\n",
    "        with open(input_file, 'r') as infile:\n",
    "            content = infile.read()\n",
    "\n",
    "        cleaned_content = content.replace('\\n', '') \n",
    "\n",
    "        with open(output_file, 'w') as outfile:\n",
    "            outfile.write(cleaned_content)\n",
    "\n",
    "        print(f\"Newlines removed and saved to '{output_file}'.\")\n",
    "    except FileNotFoundError:\n",
    "        print(f\"Error: File '{input_file}' not found.\")\n",
    "    except IOError as e:\n",
    "        print(f\"I/O error occurred: {e}\")\n",
    "\n",
    "create_input_file()\n",
    "\n",
    "remove_newlines('input.txt', 'output.txt')\n"
   ]
  },
  {
   "cell_type": "code",
   "execution_count": 67,
   "id": "ebf57faa",
   "metadata": {},
   "outputs": [
    {
     "name": "stdout",
     "output_type": "stream",
     "text": [
      "The file 'example.txt' contains 7 words.\n"
     ]
    }
   ],
   "source": [
    "#2.18.Write a Python program that takes a text file as input and returns the number of words in a given text file.\n",
    "def count_words_in_file(filename):\n",
    "    try:\n",
    "        with open(filename, 'r') as file:\n",
    "            content = file.read()\n",
    "            words = content.split()\n",
    "            word_count = len(words)\n",
    "        print(f\"The file '{filename}' contains {word_count} words.\")\n",
    "    except FileNotFoundError:\n",
    "        print(f\"Error: File '{filename}' not found.\")\n",
    "    except IOError as e:\n",
    "        print(f\"I/O error occurred: {e}\")\n",
    "\n",
    "count_words_in_file('example.txt')\n"
   ]
  },
  {
   "cell_type": "code",
   "execution_count": 68,
   "id": "9b33dfbd",
   "metadata": {},
   "outputs": [
    {
     "name": "stdout",
     "output_type": "stream",
     "text": [
      "Warning: File 'file3.txt' not found. Skipping.\n",
      "Extracted 39 characters from files.\n",
      "['A', 'l', 'i', 'c', 'e', '\\n', 'B', 'o', 'b', '\\n', 'C', 'h', 'a', 'r', 'l', 'i', 'e', '\\n', 'M', 'a', 't', 'h', '\\n', 'S', 'c', 'i', 'e', 'n', 'c', 'e', '\\n', 'H', 'i', 's', 't', 'o', 'r', 'y', '\\n']\n"
     ]
    }
   ],
   "source": [
    "#2.19.Write a Python program to extract characters from various text files and put them into a list.\n",
    "def extract_chars_from_files(filenames):\n",
    "    all_chars = []\n",
    "    for filename in filenames:\n",
    "        try:\n",
    "            with open(filename, 'r') as file:\n",
    "                content = file.read()\n",
    "                all_chars.extend(list(content))  \n",
    "        except FileNotFoundError:\n",
    "            print(f\"Warning: File '{filename}' not found. Skipping.\")\n",
    "        except IOError as e:\n",
    "            print(f\"I/O error occurred with file '{filename}': {e}\")\n",
    "\n",
    "    return all_chars\n",
    "\n",
    "\n",
    "file_list = ['file1.txt', 'file2.txt', 'file3.txt']\n",
    "characters = extract_chars_from_files(file_list)\n",
    "print(f\"Extracted {len(characters)} characters from files.\")\n",
    "print(characters[:50])  \n"
   ]
  },
  {
   "cell_type": "code",
   "execution_count": 69,
   "id": "b255a9e5",
   "metadata": {},
   "outputs": [
    {
     "name": "stdout",
     "output_type": "stream",
     "text": [
      "26 files (A.txt to Z.txt) have been created.\n"
     ]
    }
   ],
   "source": [
    "#2.20.Write a Python program to generate 26 text files named A.txt, B.txt, and so on up to Z.txt.\n",
    "import string\n",
    "\n",
    "def generate_files():\n",
    "    for letter in string.ascii_uppercase:  # 'A' to 'Z'\n",
    "        filename = f\"{letter}.txt\"\n",
    "        with open(filename, 'w') as file:\n",
    "            file.write(f\"This is file {filename}\\n\")\n",
    "    print(\"26 files (A.txt to Z.txt) have been created.\")\n",
    "\n",
    "generate_files()\n",
    "\n"
   ]
  },
  {
   "cell_type": "code",
   "execution_count": 70,
   "id": "f22f9ed7",
   "metadata": {},
   "outputs": [
    {
     "name": "stdout",
     "output_type": "stream",
     "text": [
      "File 'alphabet.txt' created with 5 letters per line.\n"
     ]
    }
   ],
   "source": [
    "#2.21.Write a Python program to create a file where all letters of the English alphabet are listed with a specified number of letters on each line.\n",
    "import string\n",
    "\n",
    "def create_alphabet_file(filename, letters_per_line):\n",
    "    letters = string.ascii_uppercase \n",
    "    with open(filename, 'w') as file:\n",
    "        for i in range(0, len(letters), letters_per_line):\n",
    "            line = letters[i:i+letters_per_line]\n",
    "            file.write(line + '\\n')\n",
    "    \n",
    "    print(f\"File '{filename}' created with {letters_per_line} letters per line.\")\n",
    "\n",
    "create_alphabet_file('alphabet.txt', 5)\n"
   ]
  },
  {
   "cell_type": "code",
   "execution_count": null,
   "id": "9f66ba5d",
   "metadata": {},
   "outputs": [],
   "source": []
  },
  {
   "cell_type": "code",
   "execution_count": null,
   "id": "37656dad",
   "metadata": {},
   "outputs": [],
   "source": []
  },
  {
   "cell_type": "code",
   "execution_count": null,
   "id": "8f4a4429",
   "metadata": {},
   "outputs": [],
   "source": []
  }
 ],
 "metadata": {
  "kernelspec": {
   "display_name": "Python 3",
   "language": "python",
   "name": "python3"
  },
  "language_info": {
   "codemirror_mode": {
    "name": "ipython",
    "version": 3
   },
   "file_extension": ".py",
   "mimetype": "text/x-python",
   "name": "python",
   "nbconvert_exporter": "python",
   "pygments_lexer": "ipython3",
   "version": "3.12.9"
  }
 },
 "nbformat": 4,
 "nbformat_minor": 5
}
