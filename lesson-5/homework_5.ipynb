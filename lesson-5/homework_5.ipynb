{
 "cells": [
  {
   "cell_type": "code",
   "execution_count": 2,
   "id": "86960e8c",
   "metadata": {},
   "outputs": [],
   "source": [
    "#1.\n",
    "def is_leap(year):\n",
    "    \n",
    "    if not isinstance(year, int):\n",
    "        raise ValueError(\"Year must be an integer.\")\n",
    "\n",
    "    return (year % 4 == 0 and year % 100 != 0) or (year % 400 == 0)\n"
   ]
  },
  {
   "cell_type": "code",
   "execution_count": null,
   "id": "8e71a82a",
   "metadata": {},
   "outputs": [
    {
     "name": "stdout",
     "output_type": "stream",
     "text": [
      "True\n",
      "False\n",
      "True\n"
     ]
    }
   ],
   "source": [
    "print(is_leap(2000))  \n",
    "print(is_leap(1900))  \n",
    "print(is_leap(2024))  \n"
   ]
  },
  {
   "cell_type": "code",
   "execution_count": 5,
   "id": "e3cbe0be",
   "metadata": {},
   "outputs": [
    {
     "name": "stdout",
     "output_type": "stream",
     "text": [
      "Not Weird\n"
     ]
    }
   ],
   "source": [
    "#2.\n",
    "n = int(input(\"Enter a positive integer: \"))\n",
    "if n < 1 or n > 100:\n",
    "    print(\"Input must be between 1 and 100.\")\n",
    "else:\n",
    "    if n % 2 == 1:\n",
    "        print(\"Weird\")\n",
    "    elif 2 <= n <= 5:\n",
    "        print(\"Not Weird\")\n",
    "    elif 6 <= n <= 20:\n",
    "        print(\"Weird\")\n",
    "    else: \n",
    "        print(\"Not Weird\")\n"
   ]
  },
  {
   "cell_type": "code",
   "execution_count": 6,
   "id": "f8166cd8",
   "metadata": {},
   "outputs": [
    {
     "name": "stdout",
     "output_type": "stream",
     "text": [
      "[4, 6, 8, 10]\n"
     ]
    }
   ],
   "source": [
    "#3.\n",
    "def even_numbers_if_else(a, b):\n",
    "    if a > b:\n",
    "        return []\n",
    "    elif a % 2 == 0:\n",
    "        return [a] + even_numbers_if_else(a + 2, b)\n",
    "    else:\n",
    "        return even_numbers_if_else(a + 1, b)\n",
    "\n",
    "print(even_numbers_if_else(3, 10)) \n"
   ]
  },
  {
   "cell_type": "code",
   "execution_count": 7,
   "id": "2bf613b5",
   "metadata": {},
   "outputs": [
    {
     "name": "stdout",
     "output_type": "stream",
     "text": [
      "[4, 6, 8, 10]\n"
     ]
    }
   ],
   "source": [
    "def even_numbers_no_if_else(a, b):\n",
    "    start = a + (a % 2)  \n",
    "    return list(range(start, b + 1, 2)) if start <= b else []\n",
    "print(even_numbers_no_if_else(3, 10))  \n"
   ]
  }
 ],
 "metadata": {
  "kernelspec": {
   "display_name": "Python 3",
   "language": "python",
   "name": "python3"
  },
  "language_info": {
   "codemirror_mode": {
    "name": "ipython",
    "version": 3
   },
   "file_extension": ".py",
   "mimetype": "text/x-python",
   "name": "python",
   "nbconvert_exporter": "python",
   "pygments_lexer": "ipython3",
   "version": "3.12.9"
  }
 },
 "nbformat": 4,
 "nbformat_minor": 5
}
