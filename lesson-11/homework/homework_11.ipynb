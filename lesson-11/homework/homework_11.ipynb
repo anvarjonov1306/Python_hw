{
 "cells": [
  {
   "cell_type": "code",
   "execution_count": 2,
   "id": "25ce5b92",
   "metadata": {},
   "outputs": [],
   "source": [
    "#1.Create your own virtual environment and install some python packages.\n",
    "\n"
   ]
  },
  {
   "cell_type": "code",
   "execution_count": 2,
   "metadata": {},
   "outputs": [],
   "source": [
    "#2.math_operations.py\n",
    "\n",
    "def add(a, b):\n",
    "    return a + b\n",
    "\n",
    "def subtract(a, b):\n",
    "    return a - b\n",
    "\n",
    "def multiply(a, b):\n",
    "    return a * b\n",
    "\n",
    "def divide(a, b):\n",
    "    if b == 0:\n",
    "        raise ValueError(\"Cannot divide by zero.\")\n",
    "    return a / b\n"
   ]
  },
  {
   "cell_type": "code",
   "execution_count": 3,
   "id": "eed40ae1",
   "metadata": {},
   "outputs": [],
   "source": [
    "# string_utils.py\n",
    "\n",
    "def reverse_string(s):\n",
    "    return s[::-1]\n",
    "\n",
    "def count_vowels(s):\n",
    "    vowels = 'aeiouAEIOU'\n",
    "    return sum(1 for char in s if char in vowels)\n"
   ]
  },
  {
   "cell_type": "code",
   "execution_count": 3,
   "id": "1f4e8d0a",
   "metadata": {},
   "outputs": [],
   "source": [
    "#3.Create custom packages.\n",
    "import math\n",
    "\n",
    "def calculate_area(radius):\n",
    "    \"\"\"Calculate the area of a circle given its radius.\"\"\"\n",
    "    return math.pi * radius ** 2\n",
    "\n",
    "def calculate_circumference(radius):\n",
    "    \"\"\"Calculate the circumference of a circle given its radius.\"\"\"\n",
    "    return 2 * math.pi * radius\n",
    "\n"
   ]
  },
  {
   "cell_type": "code",
   "execution_count": null,
   "id": "bfbabc86",
   "metadata": {},
   "outputs": [],
   "source": [
    "from .circle import calculate_area, calculate_circumference"
   ]
  },
  {
   "cell_type": "code",
   "execution_count": 5,
   "id": "7a7eb1ba",
   "metadata": {},
   "outputs": [],
   "source": [
    "def read_file(file_path):\n",
    "    \"\"\"Read and return the contents of a file.\"\"\"\n",
    "    try:\n",
    "        with open(file_path, 'r') as file:\n",
    "            return file.read()\n",
    "    except FileNotFoundError:\n",
    "        return \"File not found.\"\n",
    "    except Exception as e:\n",
    "        return f\"Error reading file: {e}\"\n"
   ]
  },
  {
   "cell_type": "code",
   "execution_count": 6,
   "id": "a60dafca",
   "metadata": {},
   "outputs": [],
   "source": [
    "def write_file(file_path, content):\n",
    "    \"\"\"Write content to a file.\"\"\"\n",
    "    try:\n",
    "        with open(file_path, 'w') as file:\n",
    "            file.write(content)\n",
    "            return \"Write successful.\"\n",
    "    except Exception as e:\n",
    "        return f\"Error writing to file: {e}\"\n"
   ]
  },
  {
   "cell_type": "code",
   "execution_count": null,
   "id": "3dae1b7a",
   "metadata": {},
   "outputs": [],
   "source": []
  },
  {
   "cell_type": "code",
   "execution_count": null,
   "id": "9a39dfe4",
   "metadata": {},
   "outputs": [],
   "source": []
  },
  {
   "cell_type": "code",
   "execution_count": null,
   "id": "cfc68b0c",
   "metadata": {},
   "outputs": [],
   "source": []
  }
 ],
 "metadata": {
  "kernelspec": {
   "display_name": "Python 3",
   "language": "python",
   "name": "python3"
  },
  "language_info": {
   "codemirror_mode": {
    "name": "ipython",
    "version": 3
   },
   "file_extension": ".py",
   "mimetype": "text/x-python",
   "name": "python",
   "nbconvert_exporter": "python",
   "pygments_lexer": "ipython3",
   "version": "3.12.9"
  }
 },
 "nbformat": 4,
 "nbformat_minor": 5
}
