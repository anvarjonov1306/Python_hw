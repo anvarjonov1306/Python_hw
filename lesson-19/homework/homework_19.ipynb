{
 "cells": [
  {
   "cell_type": "code",
   "execution_count": null,
   "id": "de9f61b5",
   "metadata": {},
   "outputs": [
    {
     "name": "stdout",
     "output_type": "stream",
     "text": [
      "\n",
      "         Date       Product     Category  Quantity  Price\n",
      "0  2023-01-01        Laptop  Electronics        10    800\n",
      "1  2023-01-01       T-Shirt     Clothing         5     20\n",
      "2  2023-01-02    Smartphone  Electronics         8    400\n",
      "3  2023-01-02  Coffee Maker         Home        12     50\n",
      "4  2023-01-03         Jeans     Clothing        15     30\n",
      "\n",
      "\n",
      "         Date       Product     Category  Quantity  Price\n",
      "0  2023-01-01        Laptop  Electronics        10    800\n",
      "1  2023-01-01       T-Shirt     Clothing         5     20\n",
      "2  2023-01-02    Smartphone  Electronics         8    400\n",
      "3  2023-01-02  Coffee Maker         Home        12     50\n",
      "4  2023-01-03         Jeans     Clothing        15     30\n"
     ]
    }
   ],
   "source": [
    "#1.Analyzing Sales Data\n",
    "import pandas as pd\n",
    "import sqlite3\n",
    "\n",
    "df = pd.read_csv(r'C:\\Users\\User\\Documents\\Python\\sales_data.csv', skiprows=2)\n",
    "print()\n",
    "print(df.head())\n",
    "\n",
    "conn = sqlite3.connect(\"sales.db\")\n",
    "\n",
    "df.to_sql(\"sales\", conn, if_exists=\"replace\", index=False)\n",
    "print()\n",
    "\n",
    "query = \"\"\"\n",
    "SELECT Date, Product, Category, Quantity, Price\n",
    "FROM sales\n",
    "\"\"\"\n",
    "result = pd.read_sql(query, conn)\n",
    "\n",
    "print()\n",
    "print(result.head())\n"
   ]
  },
  {
   "cell_type": "code",
   "execution_count": 75,
   "id": "b320233c",
   "metadata": {},
   "outputs": [],
   "source": [
    "query = \"SELECT Date, Product, Category, Quantity, Price FROM sales\"\n",
    "df = pd.read_sql_query(query, conn)\n"
   ]
  },
  {
   "cell_type": "code",
   "execution_count": 76,
   "id": "c0226b86",
   "metadata": {},
   "outputs": [
    {
     "name": "stdout",
     "output_type": "stream",
     "text": [
      " Category Statistics:\n",
      "      Category  Total_Quantity_Sold  Average_Price_Per_Unit  \\\n",
      "0     Clothing                  157               31.176471   \n",
      "1  Electronics                  183              276.764706   \n",
      "2         Home                  144               55.000000   \n",
      "\n",
      "   Max_Quantity_Single_Transaction  \n",
      "0                               15  \n",
      "1                               15  \n",
      "2                               14  \n",
      "\n",
      " Top-Selling Products by Category:\n",
      "       Category          Product  Quantity\n",
      "8      Clothing            Jeans        15\n",
      "27  Electronics         Smart TV        15\n",
      "46         Home  Pressure Cooker        14\n",
      "\n",
      " Date with Highest Total Sales: 2023-01-07 ($15150.00)\n"
     ]
    }
   ],
   "source": [
    "\n",
    "df['Total_Sale'] = df['Quantity'] * df['Price']\n",
    "\n",
    "# 1.1 Group the data by the Category column and calculate the following aggregate statistics for each category:\n",
    "# Total quantity sold.\n",
    "# Average price per unit.\n",
    "# Maximum quantity sold in a single transaction.\n",
    "category_stats = df.groupby('Category').agg(\n",
    "    Total_Quantity_Sold=('Quantity', 'sum'),\n",
    "    Average_Price_Per_Unit=('Price', 'mean'),\n",
    "    Max_Quantity_Single_Transaction=('Quantity', 'max')\n",
    ").reset_index()\n",
    "\n",
    "print(\" Category Statistics:\")\n",
    "print(category_stats)\n",
    "\n",
    "# 1.2. Identify the top-selling product in each category based on the total quantity sold.\n",
    "top_products = (\n",
    "    df.groupby(['Category', 'Product'])['Quantity']\n",
    "    .sum()\n",
    "    .reset_index()\n",
    "    .sort_values(['Category', 'Quantity'], ascending=[True, False])\n",
    "    .drop_duplicates('Category')\n",
    ")\n",
    "\n",
    "print(\"\\n Top-Selling Products by Category:\")\n",
    "print(top_products)\n",
    "\n",
    "# 1.3. Find the date on which the highest total sales (quantity * price) occurred.\n",
    "daily_sales = df.groupby('Date')['Total_Sale'].sum()\n",
    "max_sales_date = daily_sales.idxmax()\n",
    "max_sales_value = daily_sales.max()\n",
    "\n",
    "print(f\"\\n Date with Highest Total Sales: {max_sales_date} (${max_sales_value:.2f})\")\n",
    "\n",
    "conn.close()\n"
   ]
  },
  {
   "cell_type": "code",
   "execution_count": 80,
   "id": "0ba9034b",
   "metadata": {},
   "outputs": [
    {
     "data": {
      "text/plain": [
       "100"
      ]
     },
     "execution_count": 80,
     "metadata": {},
     "output_type": "execute_result"
    }
   ],
   "source": [
    "#2.Examining Customer Orders\n",
    "import pandas as pd\n",
    "import sqlite3\n",
    "\n",
    "\n",
    "df_csv = pd.read_csv(r'C:\\Users\\User\\Documents\\Python\\customer_orders.csv',  )  \n",
    "\n",
    "conn = sqlite3.connect('orders.db')\n",
    "df_csv.to_sql('customer_orders', conn, index=False, if_exists='replace')\n"
   ]
  },
  {
   "cell_type": "code",
   "execution_count": 81,
   "id": "efb493c7",
   "metadata": {},
   "outputs": [],
   "source": [
    "query = \"SELECT OrderID, CustomerID, Product, Quantity, Price FROM customer_orders\"\n",
    "df = pd.read_sql_query(query, conn)\n"
   ]
  },
  {
   "cell_type": "code",
   "execution_count": 86,
   "id": "7c28f824",
   "metadata": {},
   "outputs": [
    {
     "name": "stdout",
     "output_type": "stream",
     "text": [
      " Customers with 20 or more orders:\n",
      "[101 102 103 104]\n"
     ]
    }
   ],
   "source": [
    "#2.1.Group the data by CustomerID and filter out customers who have made less than 20 orders.\n",
    "customer_order_counts = df.groupby('CustomerID')['OrderID'].count()\n",
    "active_customers = customer_order_counts[customer_order_counts >= 20].index\n",
    "df_active = df[df['CustomerID'].isin(active_customers)]\n",
    "\n",
    "print(\" Customers with 20 or more orders:\")\n",
    "print(df_active['CustomerID'].unique())\n"
   ]
  },
  {
   "cell_type": "code",
   "execution_count": 85,
   "id": "dc05d35a",
   "metadata": {},
   "outputs": [
    {
     "name": "stdout",
     "output_type": "stream",
     "text": [
      "\n",
      " Customers with average price > $120:\n",
      "[102, 104]\n"
     ]
    }
   ],
   "source": [
    "#2.2.Identify customers who have ordered products with an average price per unit greater than $120.\n",
    "avg_price_per_customer = df.groupby('CustomerID')['Price'].mean()\n",
    "high_spenders = avg_price_per_customer[avg_price_per_customer > 120].index\n",
    "\n",
    "print(\"\\n Customers with average price > $120:\")\n",
    "print(high_spenders.tolist())\n"
   ]
  },
  {
   "cell_type": "code",
   "execution_count": 87,
   "id": "92caa993",
   "metadata": {},
   "outputs": [
    {
     "name": "stdout",
     "output_type": "stream",
     "text": [
      "\n",
      " Products with total quantity ≥ 5:\n",
      "             Product  Total_Quantity  Total_Revenue\n",
      "5        Cargo Pants               6            180\n",
      "15       Dress Shirt               5            125\n",
      "19      Formal Shirt               6            210\n",
      "30        Smartphone               5           2000\n",
      "32       Sport Shoes               5            200\n",
      "35        Sunglasses               5             75\n",
      "41  Wireless Earbuds               6            720\n"
     ]
    }
   ],
   "source": [
    "#2.3.Find the total quantity and total price for each product ordered, and filter out products that have a total quantity less than 5 units.\n",
    "df['Total_Price'] = df['Quantity'] * df['Price']\n",
    "\n",
    "product_stats = df.groupby('Product').agg(\n",
    "    Total_Quantity=('Quantity', 'sum'),\n",
    "    Total_Revenue=('Total_Price', 'sum')\n",
    ").reset_index()\n",
    "\n",
    "filtered_products = product_stats[product_stats['Total_Quantity'] >= 5]\n",
    "\n",
    "print(\"\\n Products with total quantity ≥ 5:\")\n",
    "print(filtered_products)\n"
   ]
  },
  {
   "cell_type": "code",
   "execution_count": 12,
   "id": "0a68ce5f",
   "metadata": {},
   "outputs": [
    {
     "name": "stdout",
     "output_type": "stream",
     "text": [
      "[('population',), ('sqlite_sequence',)]\n"
     ]
    }
   ],
   "source": [
    "#3.\n",
    "import sqlite3\n",
    "conn =sqlite3.connect(\"population (1).db\")\n",
    "cursor=conn.cursor()\n",
    "cursor.execute(\"SELECT name FROM sqlite_master WHERE type='table';\")\n",
    "tables=cursor.fetchall()\n",
    "print(tables)\n"
   ]
  },
  {
   "cell_type": "code",
   "execution_count": 4,
   "id": "1076b97a",
   "metadata": {},
   "outputs": [],
   "source": [
    "import pandas as pd \n",
    "df=pd.read_excel(\"population_salary_analysis.xlsx\")\n"
   ]
  },
  {
   "cell_type": "code",
   "execution_count": 37,
   "id": "e06c557e",
   "metadata": {},
   "outputs": [
    {
     "name": "stdout",
     "output_type": "stream",
     "text": [
      "Empty DataFrame\n",
      "Columns: [type, name, tbl_name, rootpage, sql, Salary Band]\n",
      "Index: []\n",
      "             Salary Band  Percentage  Average Salary  Median Salary  \\\n",
      "0          till $200,000         NaN             NaN            NaN   \n",
      "1    $200,001 - $400,000         NaN             NaN            NaN   \n",
      "2    $400,001 - $600,000         NaN             NaN            NaN   \n",
      "3    $600,001 - $800,000         NaN             NaN            NaN   \n",
      "4  $800,001 - $1,000,000         NaN             NaN            NaN   \n",
      "\n",
      "   Number of population  \n",
      "0                   NaN  \n",
      "1                   NaN  \n",
      "2                   NaN  \n",
      "3                   NaN  \n",
      "4                   NaN  \n"
     ]
    }
   ],
   "source": [
    "import sqlite3\n",
    "import pandas as pd\n",
    "\n",
    "salary_bands = pd.read_excel(\"population_salary_analysis.xlsx\")\n",
    "\n",
    "conn = sqlite3.connect(\"population(1).db\")\n",
    "population = pd.read_sql_query(\"SELECT * FROM sqlite_master \", conn)\n",
    "conn.close()\n",
    "\n",
    "def categorize_salary(salary):\n",
    "    for _, row in salary_bands.iterrows():\n",
    "        if row['Min Salary'] <= salary <= row['Max Salary']:\n",
    "            return row['Salary Band']\n",
    "    return 'Uncategorized'\n",
    "\n",
    "population['Salary Band'] = population['rootpage'].apply(categorize_salary)\n",
    "\n",
    "grouped = population.groupby('Salary Band')['rootpage']\n",
    "summary = pd.DataFrame({\n",
    "    'Population Count': grouped.count(),\n",
    "    'Percentage': grouped.count() / len(population) * 100,\n",
    "    'Average Salary': grouped.mean(),\n",
    "    'Median Salary': grouped.median()\n",
    "}).reset_index()\n",
    "\n",
    "print(population.head())\n",
    "print(salary_bands.head())"
   ]
  },
  {
   "cell_type": "code",
   "execution_count": 35,
   "id": "2b915d98",
   "metadata": {},
   "outputs": [
    {
     "name": "stdout",
     "output_type": "stream",
     "text": [
      "Empty DataFrame\n",
      "Columns: [type, name, tbl_name, rootpage, sql, Salary Band]\n",
      "Index: []\n",
      "             Salary Band  Percentage  Average Salary  Median Salary  \\\n",
      "0          till $200,000         NaN             NaN            NaN   \n",
      "1    $200,001 - $400,000         NaN             NaN            NaN   \n",
      "2    $400,001 - $600,000         NaN             NaN            NaN   \n",
      "3    $600,001 - $800,000         NaN             NaN            NaN   \n",
      "4  $800,001 - $1,000,000         NaN             NaN            NaN   \n",
      "\n",
      "   Number of population  \n",
      "0                   NaN  \n",
      "1                   NaN  \n",
      "2                   NaN  \n",
      "3                   NaN  \n",
      "4                   NaN  \n"
     ]
    }
   ],
   "source": [
    "print(population.head())\n",
    "print(salary_bands.head())\n",
    "\n"
   ]
  }
 ],
 "metadata": {
  "kernelspec": {
   "display_name": "Python 3",
   "language": "python",
   "name": "python3"
  },
  "language_info": {
   "codemirror_mode": {
    "name": "ipython",
    "version": 3
   },
   "file_extension": ".py",
   "mimetype": "text/x-python",
   "name": "python",
   "nbconvert_exporter": "python",
   "pygments_lexer": "ipython3",
   "version": "3.12.9"
  }
 },
 "nbformat": 4,
 "nbformat_minor": 5
}
