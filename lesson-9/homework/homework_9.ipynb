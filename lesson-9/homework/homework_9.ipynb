{
 "cells": [
  {
   "cell_type": "code",
   "execution_count": null,
   "id": "8035fc8b",
   "metadata": {},
   "outputs": [],
   "source": [
    "#Circle Class\n",
    "#Write a Python program to create a class representing a Circle. Include methods to calculate its area and perimeter.\n"
   ]
  },
  {
   "cell_type": "code",
   "execution_count": 1,
   "id": "98f070b8",
   "metadata": {},
   "outputs": [
    {
     "name": "stdout",
     "output_type": "stream",
     "text": [
      "Area: 153.94\n",
      "Perimeter: 43.98\n"
     ]
    }
   ],
   "source": [
    "import math\n",
    "\n",
    "class Circle:\n",
    "    def __init__(self, radius):\n",
    "        self.radius = radius\n",
    "\n",
    "    def area(self):\n",
    "        return math.pi * self.radius ** 2\n",
    "\n",
    "    def perimeter(self):\n",
    "        return 2 * math.pi * self.radius\n",
    "circle = Circle(7)\n",
    "print(f\"Area: {circle.area():.2f}\")\n",
    "print(f\"Perimeter: {circle.perimeter():.2f}\")\n"
   ]
  },
  {
   "cell_type": "code",
   "execution_count": null,
   "id": "8ca3f0db",
   "metadata": {},
   "outputs": [],
   "source": [
    "#2.Person Class\n",
    "#Write a Python program to create a Person class. Include attributes like name, country, and date of birth. Implement a method to determine the person's age."
   ]
  },
  {
   "cell_type": "code",
   "execution_count": 2,
   "id": "93d99ffc",
   "metadata": {},
   "outputs": [
    {
     "name": "stdout",
     "output_type": "stream",
     "text": [
      "John Doe from USA is 35 years old.\n"
     ]
    }
   ],
   "source": [
    "from datetime import datetime\n",
    "\n",
    "class Person:\n",
    "    def __init__(self, name, country, date_of_birth):\n",
    "        \"\"\"\n",
    "        date_of_birth should be a string in 'YYYY-MM-DD' format.\n",
    "        \"\"\"\n",
    "        self.name = name\n",
    "        self.country = country\n",
    "        self.date_of_birth = datetime.strptime(date_of_birth, '%Y-%m-%d')\n",
    "\n",
    "    def get_age(self):\n",
    "        today = datetime.today()\n",
    "        age = today.year - self.date_of_birth.year\n",
    "        if (today.month, today.day) < (self.date_of_birth.month, self.date_of_birth.day):\n",
    "            age -= 1\n",
    "        return age\n",
    "\n",
    "person = Person(\"John Doe\", \"USA\", \"1990-08-27\")\n",
    "print(f\"{person.name} from {person.country} is {person.get_age()} years old.\")\n"
   ]
  },
  {
   "cell_type": "code",
   "execution_count": null,
   "id": "f13d3745",
   "metadata": {},
   "outputs": [],
   "source": [
    "#3.Calculator Class\n",
    "#Write a Python program to create a Calculator class. Include methods for basic arithmetic operations."
   ]
  },
  {
   "cell_type": "code",
   "execution_count": 3,
   "metadata": {},
   "outputs": [
    {
     "name": "stdout",
     "output_type": "stream",
     "text": [
      "Add: 15\n",
      "Subtract: 5\n",
      "Multiply: 50\n",
      "Divide: 2.0\n"
     ]
    }
   ],
   "source": [
    "class Calculator:\n",
    "    def add(self, a, b):\n",
    "        \"\"\"Return the sum of a and b.\"\"\"\n",
    "        return a + b\n",
    "\n",
    "    def subtract(self, a, b):\n",
    "        \"\"\"Return the difference of a and b.\"\"\"\n",
    "        return a - b\n",
    "\n",
    "    def multiply(self, a, b):\n",
    "        \"\"\"Return the product of a and b.\"\"\"\n",
    "        return a * b\n",
    "\n",
    "    def divide(self, a, b):\n",
    "        \"\"\"Return the division of a by b. Raises error if b is zero.\"\"\"\n",
    "        if b == 0:\n",
    "            raise ValueError(\"Cannot divide by zero!\")\n",
    "        return a / b\n",
    "calc = Calculator()\n",
    "print(\"Add:\", calc.add(10, 5))\n",
    "print(\"Subtract:\", calc.subtract(10, 5))\n",
    "print(\"Multiply:\", calc.multiply(10, 5))\n",
    "print(\"Divide:\", calc.divide(10, 5))\n"
   ]
  },
  {
   "cell_type": "code",
   "execution_count": null,
   "id": "ab0a5de6",
   "metadata": {},
   "outputs": [],
   "source": [
    "#4. Shape and Subclasses\n",
    "#Write a Python program to create a class that represents a shape. Include methods to calculate its area and perimeter. Implement subclasses for different shapes like Circle, Triangle, and Square.\n"
   ]
  },
  {
   "cell_type": "code",
   "execution_count": 4,
   "id": "3b0b86a1",
   "metadata": {},
   "outputs": [
    {
     "name": "stdout",
     "output_type": "stream",
     "text": [
      "Circle: Area = 78.54, Perimeter = 31.42\n",
      "Square: Area = 16.00, Perimeter = 16.00\n",
      "Triangle: Area = 6.00, Perimeter = 12.00\n"
     ]
    }
   ],
   "source": [
    "from abc import ABC, abstractmethod\n",
    "import math\n",
    "\n",
    "class Shape(ABC):\n",
    "    @abstractmethod\n",
    "    def area(self):\n",
    "        \"\"\"Calculate area of the shape.\"\"\"\n",
    "        pass\n",
    "\n",
    "    @abstractmethod\n",
    "    def perimeter(self):\n",
    "        \"\"\"Calculate perimeter of the shape.\"\"\"\n",
    "        pass\n",
    "\n",
    "class Circle(Shape):\n",
    "    def __init__(self, radius):\n",
    "        self.radius = radius\n",
    "\n",
    "    def area(self):\n",
    "        return math.pi * self.radius ** 2\n",
    "\n",
    "    def perimeter(self):\n",
    "        return 2 * math.pi * self.radius\n",
    "\n",
    "class Square(Shape):\n",
    "    def __init__(self, side):\n",
    "        self.side = side\n",
    "\n",
    "    def area(self):\n",
    "        return self.side ** 2\n",
    "\n",
    "    def perimeter(self):\n",
    "        return 4 * self.side\n",
    "\n",
    "class Triangle(Shape):\n",
    "    def __init__(self, a, b, c):\n",
    "        \"\"\"\n",
    "        a, b, c are the lengths of the triangle's sides.\n",
    "        \"\"\"\n",
    "        self.a = a\n",
    "        self.b = b\n",
    "        self.c = c\n",
    "\n",
    "    def area(self):\n",
    "        s = self.perimeter() / 2\n",
    "        return math.sqrt(s * (s - self.a) * (s - self.b) * (s - self.c))\n",
    "\n",
    "    def perimeter(self):\n",
    "        return self.a + self.b + self.c\n",
    "shapes = [\n",
    "    Circle(5),\n",
    "    Square(4),\n",
    "    Triangle(3, 4, 5)\n",
    "]\n",
    "\n",
    "for shape in shapes:\n",
    "    print(f\"{shape.__class__.__name__}: Area = {shape.area():.2f}, Perimeter = {shape.perimeter():.2f}\")\n"
   ]
  },
  {
   "cell_type": "code",
   "execution_count": null,
   "id": "adabbfdd",
   "metadata": {},
   "outputs": [],
   "source": [
    "#5. Binary Search Tree Class\n",
    "#Write a Python program to create a class representing a binary search tree. Include methods for inserting and searching for elements in the binary tree."
   ]
  },
  {
   "cell_type": "code",
   "execution_count": 5,
   "id": "eae23e87",
   "metadata": {},
   "outputs": [
    {
     "name": "stdout",
     "output_type": "stream",
     "text": [
      "True\n",
      "False\n"
     ]
    }
   ],
   "source": [
    "class Node:\n",
    "    def __init__(self, key):\n",
    "        self.key = key\n",
    "        self.left = None\n",
    "        self.right = None\n",
    "\n",
    "class BinarySearchTree:\n",
    "    def __init__(self):\n",
    "        self.root = None\n",
    "\n",
    "    def insert(self, key):\n",
    "        \"\"\"Insert a key into the BST.\"\"\"\n",
    "        if self.root is None:\n",
    "            self.root = Node(key)\n",
    "        else:\n",
    "            self._insert(self.root, key)\n",
    "\n",
    "    def _insert(self, current_node, key):\n",
    "        if key < current_node.key:\n",
    "            if current_node.left is None:\n",
    "                current_node.left = Node(key)\n",
    "            else:\n",
    "                self._insert(current_node.left, key)\n",
    "        elif key > current_node.key:\n",
    "            if current_node.right is None:\n",
    "                current_node.right = Node(key)\n",
    "            else:\n",
    "                self._insert(current_node.right, key)\n",
    "        else:\n",
    "\n",
    "            pass\n",
    "\n",
    "    def search(self, key):\n",
    "        \"\"\"Search for a key in the BST. Returns True if found, else False.\"\"\"\n",
    "        return self._search(self.root, key)\n",
    "\n",
    "    def _search(self, current_node, key):\n",
    "        if current_node is None:\n",
    "            return False\n",
    "        if key == current_node.key:\n",
    "            return True\n",
    "        elif key < current_node.key:\n",
    "            return self._search(current_node.left, key)\n",
    "        else:\n",
    "            return self._search(current_node.right, key)\n",
    "\n",
    "bst = BinarySearchTree()\n",
    "bst.insert(10)\n",
    "bst.insert(5)\n",
    "bst.insert(15)\n",
    "bst.insert(7)\n",
    "\n",
    "print(bst.search(7))   \n",
    "print(bst.search(12)) \n"
   ]
  },
  {
   "cell_type": "code",
   "execution_count": null,
   "id": "43b32732",
   "metadata": {},
   "outputs": [],
   "source": [
    "#6.Stack Data Structure\n",
    "#Write a Python program to create a class representing a stack data structure. Include methods for pushing and popping elements."
   ]
  },
  {
   "cell_type": "code",
   "execution_count": 6,
   "id": "cc6b1544",
   "metadata": {},
   "outputs": [
    {
     "name": "stdout",
     "output_type": "stream",
     "text": [
      "2\n",
      "1\n"
     ]
    }
   ],
   "source": [
    "class Stack:\n",
    "    def __init__(self):\n",
    "        self.items = []\n",
    "\n",
    "    def push(self, item):\n",
    "        \"\"\"Add an item to the top of the stack.\"\"\"\n",
    "        self.items.append(item)\n",
    "\n",
    "    def pop(self):\n",
    "        \"\"\"Remove and return the top item of the stack. Raises error if empty.\"\"\"\n",
    "        if self.is_empty():\n",
    "            raise IndexError(\"Pop from empty stack\")\n",
    "        return self.items.pop()\n",
    "\n",
    "    def peek(self):\n",
    "        \"\"\"Return the top item without removing it.\"\"\"\n",
    "        if self.is_empty():\n",
    "            raise IndexError(\"Peek from empty stack\")\n",
    "        return self.items[-1]\n",
    "\n",
    "    def is_empty(self):\n",
    "        \"\"\"Check if the stack is empty.\"\"\"\n",
    "        return len(self.items) == 0\n",
    "\n",
    "    def size(self):\n",
    "        \"\"\"Return the size of the stack.\"\"\"\n",
    "        return len(self.items)\n",
    "stack = Stack()\n",
    "stack.push(1)\n",
    "stack.push(2)\n",
    "print(stack.pop())  \n",
    "print(stack.peek()) \n"
   ]
  },
  {
   "cell_type": "code",
   "execution_count": null,
   "id": "136ed5ef",
   "metadata": {},
   "outputs": [],
   "source": [
    "#7.Linked List Data Structure\n",
    "#Write a Python program to create a class representing a linked list data structure. Include methods for displaying linked list data, inserting, and deleting nodes."
   ]
  },
  {
   "cell_type": "code",
   "execution_count": 7,
   "id": "00b13111",
   "metadata": {},
   "outputs": [
    {
     "name": "stdout",
     "output_type": "stream",
     "text": [
      "10 -> 20 -> 30\n",
      "10 -> 15 -> 20 -> 30\n",
      "10 -> 15 -> 30\n",
      "Node with data 100 not found.\n"
     ]
    }
   ],
   "source": [
    "class Node:\n",
    "    def __init__(self, data):\n",
    "        self.data = data\n",
    "        self.next = None\n",
    "\n",
    "class LinkedList:\n",
    "    def __init__(self):\n",
    "        self.head = None\n",
    "\n",
    "    def display(self):\n",
    "        \"\"\"Print all elements in the linked list.\"\"\"\n",
    "        current = self.head\n",
    "        if not current:\n",
    "            print(\"Linked list is empty.\")\n",
    "            return\n",
    "        while current:\n",
    "            print(current.data, end=\" -> \" if current.next else \"\\n\")\n",
    "            current = current.next\n",
    "\n",
    "    def insert_at_end(self, data):\n",
    "        \"\"\"Insert a new node with data at the end of the list.\"\"\"\n",
    "        new_node = Node(data)\n",
    "        if not self.head:\n",
    "            self.head = new_node\n",
    "            return\n",
    "        current = self.head\n",
    "        while current.next:\n",
    "            current = current.next\n",
    "        current.next = new_node\n",
    "\n",
    "    def insert_at_position(self, data, position):\n",
    "        \"\"\"\n",
    "        Insert a new node with data at the given position (0-based index).\n",
    "        If position is greater than list length, insert at the end.\n",
    "        \"\"\"\n",
    "        new_node = Node(data)\n",
    "        if position == 0:\n",
    "            new_node.next = self.head\n",
    "            self.head = new_node\n",
    "            return\n",
    "\n",
    "        current = self.head\n",
    "        prev = None\n",
    "        count = 0\n",
    "        while current and count < position:\n",
    "            prev = current\n",
    "            current = current.next\n",
    "            count += 1\n",
    "\n",
    "        new_node.next = current\n",
    "        if prev:\n",
    "            prev.next = new_node\n",
    "        else:\n",
    "            self.head = new_node\n",
    "\n",
    "    def delete_node(self, data):\n",
    "        \"\"\"Delete the first node with the given data.\"\"\"\n",
    "        current = self.head\n",
    "        prev = None\n",
    "\n",
    "        while current:\n",
    "            if current.data == data:\n",
    "                if prev:\n",
    "                    prev.next = current.next\n",
    "                else:\n",
    "               \n",
    "                    self.head = current.next\n",
    "                return \n",
    "            prev = current\n",
    "            current = current.next\n",
    "\n",
    "        print(f\"Node with data {data} not found.\")\n",
    "ll = LinkedList()\n",
    "ll.insert_at_end(10)\n",
    "ll.insert_at_end(20)\n",
    "ll.insert_at_end(30)\n",
    "ll.display()         \n",
    "\n",
    "ll.insert_at_position(15, 1)\n",
    "ll.display()        \n",
    "\n",
    "ll.delete_node(20)\n",
    "ll.display()          \n",
    "\n",
    "ll.delete_node(100)   \n"
   ]
  },
  {
   "cell_type": "code",
   "execution_count": null,
   "id": "81c34c92",
   "metadata": {},
   "outputs": [],
   "source": [
    "#8.Shopping Cart Class\n",
    "#Write a Python program to create a class representing a shopping cart. Include methods for adding and removing items, and calculating the total price."
   ]
  },
  {
   "cell_type": "code",
   "execution_count": 8,
   "id": "a9dff128",
   "metadata": {},
   "outputs": [
    {
     "name": "stdout",
     "output_type": "stream",
     "text": [
      "Shopping Cart:\n",
      "- Apple: $0.99 x 3\n",
      "- Banana: $0.59 x 5\n",
      "Total: $5.92\n",
      "Shopping Cart:\n",
      "- Apple: $0.99 x 2\n",
      "- Banana: $0.59 x 5\n",
      "Total: $4.93\n",
      "Total price: 4.93\n"
     ]
    }
   ],
   "source": [
    "class ShoppingCart:\n",
    "    def __init__(self):\n",
    "        self.items = {}\n",
    "\n",
    "    def add_item(self, item_name, price, quantity=1):\n",
    "        \"\"\"Add an item with given price and quantity to the cart.\"\"\"\n",
    "        if item_name in self.items:\n",
    "            self.items[item_name][1] += quantity \n",
    "        else:\n",
    "            self.items[item_name] = [price, quantity]\n",
    "\n",
    "    def remove_item(self, item_name, quantity=1):\n",
    "        \"\"\"Remove given quantity of the item from the cart. Remove item if quantity <= 0.\"\"\"\n",
    "        if item_name not in self.items:\n",
    "            print(f\"Item '{item_name}' not found in the cart.\")\n",
    "            return\n",
    "\n",
    "        if quantity >= self.items[item_name][1]:\n",
    "            del self.items[item_name]\n",
    "        else:\n",
    "            self.items[item_name][1] -= quantity\n",
    "\n",
    "    def calculate_total(self):\n",
    "        \"\"\"Calculate and return the total price of all items.\"\"\"\n",
    "        total = 0\n",
    "        for price, quantity in self.items.values():\n",
    "            total += price * quantity\n",
    "        return total\n",
    "\n",
    "    def show_cart(self):\n",
    "        \"\"\"Print all items in the cart with their price and quantity.\"\"\"\n",
    "        if not self.items:\n",
    "            print(\"Shopping cart is empty.\")\n",
    "            return\n",
    "        print(\"Shopping Cart:\")\n",
    "        for item, (price, quantity) in self.items.items():\n",
    "            print(f\"- {item}: ${price:.2f} x {quantity}\")\n",
    "        print(f\"Total: ${self.calculate_total():.2f}\")\n",
    "\n",
    "cart = ShoppingCart()\n",
    "cart.add_item(\"Apple\", 0.99, 3)\n",
    "cart.add_item(\"Banana\", 0.59, 5)\n",
    "cart.show_cart()\n",
    "\n",
    "cart.remove_item(\"Apple\", 1)\n",
    "cart.show_cart()\n",
    "\n",
    "print(\"Total price:\", cart.calculate_total())\n"
   ]
  },
  {
   "cell_type": "code",
   "execution_count": null,
   "id": "26b09223",
   "metadata": {},
   "outputs": [],
   "source": [
    "#9.Stack with Display\n",
    "#Write a Python program to create a class representing a stack data structure. Include methods for pushing, popping, and displaying elements."
   ]
  },
  {
   "cell_type": "code",
   "execution_count": 9,
   "id": "a2ab8fec",
   "metadata": {},
   "outputs": [
    {
     "name": "stdout",
     "output_type": "stream",
     "text": [
      "Pushed: 10\n",
      "Pushed: 20\n"
     ]
    },
    {
     "data": {
      "text/plain": [
       "<bound method Stack.push of <__main__.Stack object at 0x000002CD16F2FB30>>"
      ]
     },
     "execution_count": 9,
     "metadata": {},
     "output_type": "execute_result"
    }
   ],
   "source": [
    "class Stack:\n",
    "    def __init__(self):\n",
    "        self.items = []\n",
    "    def push(self, item):\n",
    "        \"\"\"Add an item to the top of the stack.\"\"\"\n",
    "        self.items.append(item)\n",
    "        print(f\"Pushed: {item}\")\n",
    "    def pop(self):\n",
    "        \"\"\"Remove and return the top item from the stack.\"\"\"\n",
    "        if self.is_empty():\n",
    "            print(\"Stack is empty. Cannot pop.\")\n",
    "            return None\n",
    "        removed_item = self.items.pop()\n",
    "        print(f\"Popped: {removed_item}\")\n",
    "        return removed_item\n",
    "    def display(self):\n",
    "        \"\"\"Display all elements in the stack from top to bottom.\"\"\"\n",
    "        if self.is_empty():\n",
    "            print(\"Stack is empty.\")\n",
    "        else:\n",
    "            print(\"Stack elements (top to bottom):\")\n",
    "            for item in reversed(self.items):\n",
    "                print(item)\n",
    "    def is_empty(self):\n",
    "        \"\"\"Check if the stack is empty.\"\"\"\n",
    "        return len(self.items) == 0\n",
    "stack = Stack()\n",
    "stack.push(10)\n",
    "stack.push(20)\n",
    "stack.push\n"
   ]
  },
  {
   "cell_type": "code",
   "execution_count": null,
   "id": "fafcd178",
   "metadata": {},
   "outputs": [],
   "source": [
    "#10.Queue Data Structure\n",
    "#Write a Python program to create a class representing a queue data structure. Include methods for enqueueing and dequeueing elements."
   ]
  },
  {
   "cell_type": "code",
   "execution_count": 11,
   "id": "9914b7f1",
   "metadata": {},
   "outputs": [
    {
     "name": "stdout",
     "output_type": "stream",
     "text": [
      "Enqueued: 1\n",
      "Enqueued: 2\n",
      "Enqueued: 3\n",
      "Queue elements (front to rear):\n",
      "1\n",
      "2\n",
      "3\n",
      "Dequeued: 1\n",
      "Queue elements (front to rear):\n",
      "2\n",
      "3\n"
     ]
    }
   ],
   "source": [
    "class Queue:\n",
    "    def __init__(self):\n",
    "        self.items = []\n",
    "    def enqueue(self, item):\n",
    "        \"\"\"Add an item to the rear of the queue.\"\"\"\n",
    "        self.items.append(item)\n",
    "        print(f\"Enqueued: {item}\")\n",
    "    def dequeue(self):\n",
    "        \"\"\"Remove and return the front item of the queue.\"\"\"\n",
    "        if self.is_empty():\n",
    "            print(\"Queue is empty. Cannot dequeue.\")\n",
    "            return None\n",
    "        removed_item = self.items.pop(0)\n",
    "        print(f\"Dequeued: {removed_item}\")\n",
    "        return removed_item\n",
    "    def display(self):\n",
    "        \"\"\"Display all items in the queue.\"\"\"\n",
    "        if self.is_empty():\n",
    "            print(\"Queue is empty.\")\n",
    "        else:\n",
    "            print(\"Queue elements (front to rear):\")\n",
    "            for item in self.items:\n",
    "                print(item)\n",
    "    def is_empty(self):\n",
    "        \"\"\"Check if the queue is empty.\"\"\"\n",
    "        return len(self.items) == 0\n",
    "queue = Queue()\n",
    "queue.enqueue(1)\n",
    "queue.enqueue(2)\n",
    "queue.enqueue(3)\n",
    "queue.display()\n",
    "\n",
    "queue.dequeue()\n",
    "queue.display()\n"
   ]
  },
  {
   "cell_type": "code",
   "execution_count": null,
   "id": "5937922b",
   "metadata": {},
   "outputs": [],
   "source": [
    "#11.Bank Class\n",
    "#Write a Python program to create a class representing a bank. Include methods for managing customer accounts and transactions."
   ]
  },
  {
   "cell_type": "code",
   "execution_count": 12,
   "id": "c8ac3044",
   "metadata": {},
   "outputs": [
    {
     "name": "stdout",
     "output_type": "stream",
     "text": [
      "Account created for Alice (Account No: 1001)\n",
      "Account created for Bob (Account No: 1002)\n",
      "Deposited $200.00 to account 1001\n",
      "Withdrew $300.00 from account 1002\n",
      "Account Number: 1001\n",
      "Account Holder: Alice\n",
      "Balance: $700.00\n",
      "Account Number: 1002\n",
      "Account Holder: Bob\n",
      "Balance: $700.00\n"
     ]
    }
   ],
   "source": [
    "class Account:\n",
    "    def __init__(self, account_number, name, balance=0.0):\n",
    "        self.account_number = account_number\n",
    "        self.name = name\n",
    "        self.balance = balance\n",
    "    def deposit(self, amount):\n",
    "        if amount <= 0:\n",
    "            print(\"Deposit amount must be positive.\")\n",
    "        else:\n",
    "            self.balance += amount\n",
    "            print(f\"Deposited ${amount:.2f} to account {self.account_number}\")\n",
    "    def withdraw(self, amount):\n",
    "        if amount <= 0:\n",
    "            print(\"Withdrawal amount must be positive.\")\n",
    "        elif amount > self.balance:\n",
    "            print(\"Insufficient balance.\")\n",
    "        else:\n",
    "            self.balance -= amount\n",
    "            print(f\"Withdrew ${amount:.2f} from account {self.account_number}\")\n",
    "    def display_info(self):\n",
    "        print(f\"Account Number: {self.account_number}\")\n",
    "        print(f\"Account Holder: {self.name}\")\n",
    "        print(f\"Balance: ${self.balance:.2f}\")\n",
    "class Bank:\n",
    "    def __init__(self):\n",
    "        self.accounts = {}\n",
    "\n",
    "    def create_account(self, account_number, name, initial_deposit=0.0):\n",
    "        if account_number in self.accounts:\n",
    "            print(\"Account number already exists.\")\n",
    "        else:\n",
    "            self.accounts[account_number] = Account(account_number, name, initial_deposit)\n",
    "            print(f\"Account created for {name} (Account No: {account_number})\")\n",
    "    def deposit(self, account_number, amount):\n",
    "        account = self.accounts.get(account_number)\n",
    "        if account:\n",
    "            account.deposit(amount)\n",
    "        else:\n",
    "            print(\"Account not found.\")\n",
    "    def withdraw(self, account_number, amount):\n",
    "        account = self.accounts.get(account_number)\n",
    "        if account:\n",
    "            account.withdraw(amount)\n",
    "        else:\n",
    "            print(\"Account not found.\")\n",
    "\n",
    "    def show_account(self, account_number):\n",
    "        account = self.accounts.get(account_number)\n",
    "        if account:\n",
    "            account.display_info()\n",
    "        else:\n",
    "            print(\"Account not found.\")\n",
    "bank = Bank()\n",
    "bank.create_account(\"1001\", \"Alice\", 500)\n",
    "bank.create_account(\"1002\", \"Bob\", 1000)\n",
    "\n",
    "bank.deposit(\"1001\", 200)\n",
    "bank.withdraw(\"1002\", 300)\n",
    "\n",
    "bank.show_account(\"1001\")\n",
    "bank.show_account(\"1002\")\n"
   ]
  },
  {
   "cell_type": "code",
   "execution_count": null,
   "id": "55f6bf08",
   "metadata": {},
   "outputs": [],
   "source": []
  },
  {
   "cell_type": "code",
   "execution_count": null,
   "id": "30d7227c",
   "metadata": {},
   "outputs": [],
   "source": []
  }
 ],
 "metadata": {
  "kernelspec": {
   "display_name": "Python 3",
   "language": "python",
   "name": "python3"
  },
  "language_info": {
   "codemirror_mode": {
    "name": "ipython",
    "version": 3
   },
   "file_extension": ".py",
   "mimetype": "text/x-python",
   "name": "python",
   "nbconvert_exporter": "python",
   "pygments_lexer": "ipython3",
   "version": "3.12.9"
  }
 },
 "nbformat": 4,
 "nbformat_minor": 5
}
