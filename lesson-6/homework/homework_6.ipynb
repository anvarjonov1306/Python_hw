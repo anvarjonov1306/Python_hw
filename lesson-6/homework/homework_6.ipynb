{
 "cells": [
  {
   "cell_type": "code",
   "execution_count": 1,
   "id": "94ab6b26",
   "metadata": {},
   "outputs": [],
   "source": [
    "#1. Modify String with Underscores\n",
    "def insert_underscores(txt):\n",
    "    result = \"\"\n",
    "    i = 0\n",
    "    count = 0\n",
    "    vowels = \"aeiouAEIOU\"\n",
    "    \n",
    "    while i < len(txt):\n",
    "        result += txt[i]\n",
    "        count += 1\n",
    "        if count == 3:\n",
    "            if i + 1 < len(txt) and (txt[i] in vowels or txt[i + 1] == \"_\"):\n",
    "                if i + 1 < len(txt) - 1:\n",
    "                    result += txt[i + 1]\n",
    "                    result += \"_\"\n",
    "                    i += 1 \n",
    "            else:\n",
    "                if i + 1 < len(txt):  \n",
    "                    result += \"_\"\n",
    "            count = 0  \n",
    "        i += 1\n",
    "    return result\n"
   ]
  },
  {
   "cell_type": "code",
   "execution_count": 2,
   "id": "c21295ae",
   "metadata": {},
   "outputs": [
    {
     "name": "stdout",
     "output_type": "stream",
     "text": [
      "hel_lo\n",
      "ass_alom\n",
      "abc_abc_abc_deab_cdef_abc_def_g\n"
     ]
    }
   ],
   "source": [
    "print(insert_underscores(\"hello\"))            \n",
    "print(insert_underscores(\"assalom\"))          \n",
    "print(insert_underscores(\"abcabcabcdeabcdefabcdefg\"))  \n"
   ]
  },
  {
   "cell_type": "code",
   "execution_count": 3,
   "id": "572481eb",
   "metadata": {},
   "outputs": [
    {
     "name": "stdout",
     "output_type": "stream",
     "text": [
      "0\n",
      "1\n",
      "4\n",
      "9\n",
      "16\n"
     ]
    }
   ],
   "source": [
    "#2. Integer Squares Exercise\n",
    "n = int(input())\n",
    "\n",
    "for i in range(n):\n",
    "    print(i ** 2)\n"
   ]
  },
  {
   "cell_type": "code",
   "execution_count": 4,
   "id": "6a28f324",
   "metadata": {},
   "outputs": [
    {
     "name": "stdout",
     "output_type": "stream",
     "text": [
      "1\n",
      "2\n",
      "3\n",
      "4\n",
      "5\n",
      "6\n",
      "7\n",
      "8\n",
      "9\n",
      "10\n"
     ]
    }
   ],
   "source": [
    "#3.Loop-Based Exercises\n",
    "#3.1\n",
    "i = 1\n",
    "\n",
    "while i <= 10:\n",
    "    print(i)\n",
    "    i += 1\n"
   ]
  },
  {
   "cell_type": "code",
   "execution_count": 5,
   "id": "130342e6",
   "metadata": {},
   "outputs": [
    {
     "name": "stdout",
     "output_type": "stream",
     "text": [
      "1 \n",
      "1 2 \n",
      "1 2 3 \n",
      "1 2 3 4 \n",
      "1 2 3 4 5 \n"
     ]
    }
   ],
   "source": [
    "#3.2.2: Print the following pattern\n",
    "for i in range(1, 6):\n",
    "    for j in range(1, i + 1):\n",
    "        print(j, end=' ')\n",
    "    print()\n"
   ]
  },
  {
   "cell_type": "code",
   "execution_count": 6,
   "id": "75492f83",
   "metadata": {},
   "outputs": [
    {
     "name": "stdout",
     "output_type": "stream",
     "text": [
      "Sum is: 55\n"
     ]
    }
   ],
   "source": [
    "#3.3.Calculate sum of all numbers from 1 to a given number\n",
    "num = int(input(\"Enter number: \"))\n",
    "total = 0\n",
    "i = 1\n",
    "while i <= num:\n",
    "    total += i\n",
    "    i += 1\n",
    "print(\"Sum is:\", total)\n"
   ]
  },
  {
   "cell_type": "code",
   "execution_count": 7,
   "id": "53af2d9a",
   "metadata": {},
   "outputs": [
    {
     "name": "stdout",
     "output_type": "stream",
     "text": [
      "2\n",
      "4\n",
      "6\n",
      "8\n",
      "10\n",
      "12\n",
      "14\n",
      "16\n",
      "18\n",
      "20\n"
     ]
    }
   ],
   "source": [
    "#3.4.Print multiplication table of a given number\n",
    "\n",
    "num = int(input(\"Enter a number: \"))\n",
    "for i in range(1, 11):\n",
    "    print(num * i)\n"
   ]
  },
  {
   "cell_type": "code",
   "execution_count": 1,
   "id": "f9ec7672",
   "metadata": {},
   "outputs": [
    {
     "name": "stdout",
     "output_type": "stream",
     "text": [
      "75\n",
      "150\n",
      "180\n",
      "145\n"
     ]
    }
   ],
   "source": [
    "#3.5. Display numbers from a list using a loop\n",
    "numbers = [12, 75, 150, 180, 145, 525, 50]\n",
    "\n",
    "for num in numbers:\n",
    "    if num > 500:\n",
    "        continue\n",
    "    if num > 70 and num < 200:\n",
    "        print(num)\n"
   ]
  },
  {
   "cell_type": "code",
   "execution_count": 2,
   "id": "a4df11c5",
   "metadata": {},
   "outputs": [
    {
     "name": "stdout",
     "output_type": "stream",
     "text": [
      "5\n"
     ]
    }
   ],
   "source": [
    "#3.6.Count the total number of digits in a number\n",
    "number = 75869\n",
    "count = 0\n",
    "while number != 0:\n",
    "    number //= 10\n",
    "    count += 1\n",
    "print(count)\n"
   ]
  },
  {
   "cell_type": "code",
   "execution_count": 3,
   "id": "5bf71bf4",
   "metadata": {},
   "outputs": [
    {
     "name": "stdout",
     "output_type": "stream",
     "text": [
      "5 4 3 2 1 \n",
      "4 3 2 1 \n",
      "3 2 1 \n",
      "2 1 \n",
      "1 \n"
     ]
    }
   ],
   "source": [
    "#3.7.Print reverse number pattern\n",
    "for i in range(5, 0, -1):\n",
    "    for j in range(i, 0, -1):\n",
    "        print(j, end=' ')\n",
    "    print()\n"
   ]
  },
  {
   "cell_type": "code",
   "execution_count": 4,
   "id": "16709bde",
   "metadata": {},
   "outputs": [
    {
     "name": "stdout",
     "output_type": "stream",
     "text": [
      "50\n",
      "40\n",
      "30\n",
      "20\n",
      "10\n"
     ]
    }
   ],
   "source": [
    "#3.8.Print list in reverse order using a loop\n",
    "list1 = [10, 20, 30, 40, 50]\n",
    "\n",
    "for i in range(len(list1) - 1, -1, -1):\n",
    "    print(list1[i])\n"
   ]
  },
  {
   "cell_type": "code",
   "execution_count": 5,
   "metadata": {},
   "outputs": [
    {
     "name": "stdout",
     "output_type": "stream",
     "text": [
      "-10\n",
      "-9\n",
      "-8\n",
      "-7\n",
      "-6\n",
      "-5\n",
      "-4\n",
      "-3\n",
      "-2\n",
      "-1\n"
     ]
    }
   ],
   "source": [
    "#3.9.Display numbers from -10 to -1 using a for loop\n",
    "for i in range(-10, 0):\n",
    "    print(i)\n"
   ]
  },
  {
   "cell_type": "code",
   "execution_count": 6,
   "id": "56ce06b5",
   "metadata": {},
   "outputs": [
    {
     "name": "stdout",
     "output_type": "stream",
     "text": [
      "0\n",
      "1\n",
      "2\n",
      "3\n",
      "4\n",
      "Done!\n"
     ]
    }
   ],
   "source": [
    "#3.10.Display message “Done” after successful loop execution\n",
    "for i in range(5):\n",
    "    print(i)\n",
    "print(\"Done!\")\n"
   ]
  },
  {
   "cell_type": "code",
   "execution_count": 8,
   "id": "18df60ac",
   "metadata": {},
   "outputs": [
    {
     "name": "stdout",
     "output_type": "stream",
     "text": [
      "Prime numbers between 25 and 50 :\n",
      "29\n",
      "31\n",
      "37\n",
      "41\n",
      "43\n",
      "47\n"
     ]
    }
   ],
   "source": [
    "#3.11. Print all prime numbers within a range\n",
    "\n",
    "start = 25\n",
    "end = 50\n",
    "\n",
    "print(\"Prime numbers between\", start, \"and\", end, \":\")\n",
    "\n",
    "for num in range(start, end + 1):\n",
    "    if num > 1:\n",
    "        for i in range(2, int(num ** 0.5) + 1):\n",
    "            if num % i == 0:\n",
    "                break\n",
    "        else:\n",
    "            print(num)\n"
   ]
  },
  {
   "cell_type": "code",
   "execution_count": 9,
   "id": "f2f52b57",
   "metadata": {},
   "outputs": [
    {
     "name": "stdout",
     "output_type": "stream",
     "text": [
      "Fibonacci sequence:\n",
      "0  1  1  2  3  5  8  13  21  34  "
     ]
    }
   ],
   "source": [
    "#3.12.Display Fibonacci series up to 10 terms\n",
    "num_terms = 10\n",
    "a, b = 0, 1\n",
    "\n",
    "print(\"Fibonacci sequence:\")\n",
    "\n",
    "for _ in range(num_terms):\n",
    "    print(a, end='  ')\n",
    "    a, b = b, a + b\n"
   ]
  },
  {
   "cell_type": "code",
   "execution_count": 10,
   "id": "533c7835",
   "metadata": {},
   "outputs": [
    {
     "name": "stdout",
     "output_type": "stream",
     "text": [
      "5! = 120\n"
     ]
    }
   ],
   "source": [
    "#3.13.Find the factorial of a given number\n",
    "number = 5\n",
    "factorial = 1\n",
    "\n",
    "for i in range(1, number + 1):\n",
    "    factorial *= i\n",
    "\n",
    "print(f\"{number}! = {factorial}\")\n"
   ]
  },
  {
   "cell_type": "code",
   "execution_count": 11,
   "id": "35dd1d2d",
   "metadata": {},
   "outputs": [
    {
     "name": "stdout",
     "output_type": "stream",
     "text": [
      "[1, 1, 3, 4]\n",
      "[1, 2, 3, 4, 5, 6]\n",
      "[1, 2, 2, 5]\n"
     ]
    }
   ],
   "source": [
    "#4.Return Uncommon Elements of Lists\n",
    "from collections import Counter\n",
    "\n",
    "def uncommon_elements(list1, list2):\n",
    "    count1 = Counter(list1)\n",
    "    count2 = Counter(list2)\n",
    "    result = []\n",
    "    for elem in count1:\n",
    "        diff = count1[elem] - count2.get(elem, 0)\n",
    "        if diff > 0:\n",
    "            result.extend([elem] * diff)\n",
    "    for elem in count2:\n",
    "        diff = count2[elem] - count1.get(elem, 0)\n",
    "        if diff > 0:\n",
    "            result.extend([elem] * diff)\n",
    "\n",
    "    return result\n",
    "print(uncommon_elements([1, 1, 2], [2, 3, 4]))       \n",
    "print(uncommon_elements([1, 2, 3], [4, 5, 6]))      \n",
    "print(uncommon_elements([1, 1, 2, 3, 4, 2], [1, 3, 4, 5])) \n"
   ]
  },
  {
   "cell_type": "code",
   "execution_count": null,
   "id": "8affc76e",
   "metadata": {},
   "outputs": [],
   "source": []
  },
  {
   "cell_type": "code",
   "execution_count": null,
   "id": "606cf3dd",
   "metadata": {},
   "outputs": [],
   "source": []
  },
  {
   "cell_type": "code",
   "execution_count": null,
   "id": "7a1818cc",
   "metadata": {},
   "outputs": [],
   "source": []
  },
  {
   "cell_type": "code",
   "execution_count": null,
   "id": "7087441f",
   "metadata": {},
   "outputs": [],
   "source": []
  },
  {
   "cell_type": "code",
   "execution_count": null,
   "id": "e8f1240e",
   "metadata": {},
   "outputs": [],
   "source": []
  },
  {
   "cell_type": "code",
   "execution_count": null,
   "id": "a9cc5800",
   "metadata": {},
   "outputs": [],
   "source": []
  },
  {
   "cell_type": "code",
   "execution_count": null,
   "id": "3bb51439",
   "metadata": {},
   "outputs": [],
   "source": []
  },
  {
   "cell_type": "code",
   "execution_count": null,
   "id": "7b3ecb19",
   "metadata": {},
   "outputs": [],
   "source": []
  },
  {
   "cell_type": "code",
   "execution_count": null,
   "id": "8f492b97",
   "metadata": {},
   "outputs": [],
   "source": []
  },
  {
   "cell_type": "code",
   "execution_count": null,
   "id": "1e9898a6",
   "metadata": {},
   "outputs": [],
   "source": []
  }
 ],
 "metadata": {
  "kernelspec": {
   "display_name": "Python 3",
   "language": "python",
   "name": "python3"
  },
  "language_info": {
   "codemirror_mode": {
    "name": "ipython",
    "version": 3
   },
   "file_extension": ".py",
   "mimetype": "text/x-python",
   "name": "python",
   "nbconvert_exporter": "python",
   "pygments_lexer": "ipython3",
   "version": "3.12.9"
  }
 },
 "nbformat": 4,
 "nbformat_minor": 5
}
