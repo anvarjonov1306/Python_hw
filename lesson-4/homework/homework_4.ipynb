{
 "cells": [
  {
   "cell_type": "code",
   "execution_count": 1,
   "id": "eaedfdd2",
   "metadata": {},
   "outputs": [
    {
     "name": "stdout",
     "output_type": "stream",
     "text": [
      "Ascending order: {'banana': 2, 'date': 5, 'cherry': 7, 'apple': 10}\n",
      "Descending order: {'apple': 10, 'cherry': 7, 'date': 5, 'banana': 2}\n"
     ]
    }
   ],
   "source": [
    "#1. Sort a Dictionary by Value\n",
    "my_dict = {'apple': 10, 'banana': 2, 'cherry': 7, 'date': 5}\n",
    "ascending = dict(sorted(my_dict.items(), key=lambda item: item[1]))\n",
    "print(\"Ascending order:\", ascending)\n",
    "descending = dict(sorted(my_dict.items(), key=lambda item: item[1], reverse=True))\n",
    "print(\"Descending order:\", descending)\n"
   ]
  },
  {
   "cell_type": "code",
   "execution_count": 3,
   "metadata": {},
   "outputs": [
    {
     "name": "stdout",
     "output_type": "stream",
     "text": [
      "{0: 10, 1: 20, 2: 30}\n"
     ]
    }
   ],
   "source": [
    "#2.Add a Key to a Dictionary\n",
    "my_dict = {0: 10, 1: 20}\n",
    "my_dict[2] = 30\n",
    "print(my_dict)\n",
    "\n"
   ]
  },
  {
   "cell_type": "code",
   "execution_count": 4,
   "id": "5499a292",
   "metadata": {},
   "outputs": [
    {
     "name": "stdout",
     "output_type": "stream",
     "text": [
      "{1: 10, 2: 20, 3: 30, 4: 40, 5: 50, 6: 60}\n"
     ]
    }
   ],
   "source": [
    "#3. Concatenate Multiple Dictionaries\n",
    "dic1 = {1: 10, 2: 20}\n",
    "dic2 = {3: 30, 4: 40}\n",
    "dic3 = {5: 50, 6: 60}\n",
    "result = {}\n",
    "for d in (dic1, dic2, dic3):\n",
    "    result.update(d)\n",
    "print(result)\n"
   ]
  },
  {
   "cell_type": "code",
   "execution_count": 5,
   "id": "0c49c4a3",
   "metadata": {},
   "outputs": [
    {
     "name": "stdout",
     "output_type": "stream",
     "text": [
      "{1: 1, 2: 4, 3: 9, 4: 16, 5: 25}\n"
     ]
    }
   ],
   "source": [
    "#4.Generate a Dictionary with Squares\n",
    "n = 5\n",
    "squares_dict = {x: x * x for x in range(1, n + 1)}\n",
    "print(squares_dict)\n"
   ]
  },
  {
   "cell_type": "code",
   "execution_count": 6,
   "id": "f34970db",
   "metadata": {},
   "outputs": [
    {
     "name": "stdout",
     "output_type": "stream",
     "text": [
      "{1: 1, 2: 4, 3: 9, 4: 16, 5: 25, 6: 36, 7: 49, 8: 64, 9: 81, 10: 100, 11: 121, 12: 144, 13: 169, 14: 196, 15: 225}\n"
     ]
    }
   ],
   "source": [
    "#5. Dictionary of Squares (1 to 15)\n",
    "squares_dict = {x: x**2 for x in range(1, 16)}\n",
    "print(squares_dict)\n"
   ]
  },
  {
   "cell_type": "code",
   "execution_count": 7,
   "id": "1ac5fd2a",
   "metadata": {},
   "outputs": [
    {
     "name": "stdout",
     "output_type": "stream",
     "text": [
      "Created set: {1, 2, 3, 4, 5}\n"
     ]
    }
   ],
   "source": [
    "#6.Create a Set\n",
    "my_set = {1, 2, 3, 4, 5}\n",
    "print(\"Created set:\", my_set)\n"
   ]
  },
  {
   "cell_type": "code",
   "execution_count": 8,
   "id": "40c78ccd",
   "metadata": {},
   "outputs": [
    {
     "name": "stdout",
     "output_type": "stream",
     "text": [
      "Iterating over the set:\n",
      "banana\n",
      "cherry\n",
      "apple\n"
     ]
    }
   ],
   "source": [
    "#7.Iterate Over a Set\n",
    "my_set = {'apple', 'banana', 'cherry'}\n",
    "print(\"Iterating over the set:\")\n",
    "for item in my_set:\n",
    "    print(item)\n"
   ]
  },
  {
   "cell_type": "code",
   "execution_count": 9,
   "id": "097126d1",
   "metadata": {},
   "outputs": [
    {
     "name": "stdout",
     "output_type": "stream",
     "text": [
      "Original set: {1, 2, 3}\n",
      "After adding 4: {1, 2, 3, 4}\n"
     ]
    }
   ],
   "source": [
    "#8. Add Member(s) to a Set\n",
    "my_set = {1, 2, 3}\n",
    "print(\"Original set:\", my_set)\n",
    "my_set.add(4)\n",
    "print(\"After adding 4:\", my_set)\n",
    "\n"
   ]
  },
  {
   "cell_type": "code",
   "execution_count": 10,
   "id": "109c1d9e",
   "metadata": {},
   "outputs": [
    {
     "name": "stdout",
     "output_type": "stream",
     "text": [
      "Original set: {1, 2, 3, 4, 5}\n",
      "After remove(3): {1, 2, 4, 5}\n"
     ]
    }
   ],
   "source": [
    "#9. Remove Item(s) from a Set\n",
    "\n",
    "my_set = {1, 2, 3, 4, 5}\n",
    "print(\"Original set:\", my_set)\n",
    "my_set.remove(3)\n",
    "print(\"After remove(3):\", my_set)\n"
   ]
  },
  {
   "cell_type": "code",
   "execution_count": 11,
   "id": "4aa4099e",
   "metadata": {},
   "outputs": [
    {
     "name": "stdout",
     "output_type": "stream",
     "text": [
      "Removed 3 from the set.\n",
      "Updated set: {1, 2, 4, 5}\n"
     ]
    }
   ],
   "source": [
    "#10.Remove an Item if Present in the Set\n",
    "my_set = {1, 2, 3, 4, 5}\n",
    "item = 3\n",
    "if item in my_set:\n",
    "    my_set.remove(item)\n",
    "    print(f\"Removed {item} from the set.\")\n",
    "else:\n",
    "    print(f\"{item} not found in the set.\")\n",
    "print(\"Updated set:\", my_set)\n"
   ]
  }
 ],
 "metadata": {
  "kernelspec": {
   "display_name": "Python 3",
   "language": "python",
   "name": "python3"
  },
  "language_info": {
   "codemirror_mode": {
    "name": "ipython",
    "version": 3
   },
   "file_extension": ".py",
   "mimetype": "text/x-python",
   "name": "python",
   "nbconvert_exporter": "python",
   "pygments_lexer": "ipython3",
   "version": "3.12.9"
  }
 },
 "nbformat": 4,
 "nbformat_minor": 5
}
